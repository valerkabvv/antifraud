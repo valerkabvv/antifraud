{
  "nbformat": 4,
  "nbformat_minor": 0,
  "metadata": {
    "colab": {
      "name": "Calculate_features.ipynb",
      "provenance": [],
      "collapsed_sections": [],
      "machine_shape": "hm"
    },
    "kernelspec": {
      "name": "python3",
      "display_name": "Python 3"
    }
  },
  "cells": [
    {
      "cell_type": "code",
      "metadata": {
        "id": "OmkkMovVE4ee",
        "colab_type": "code",
        "colab": {}
      },
      "source": [
        "import pandas as pd\n",
        "import os\n",
        "from tqdm import tqdm"
      ],
      "execution_count": 0,
      "outputs": []
    },
    {
      "cell_type": "code",
      "metadata": {
        "id": "0rGaJN6qnghK",
        "colab_type": "code",
        "colab": {}
      },
      "source": [
        "from aggregated_features import agg_features\n",
        "from mcc2vec import person2vec, mcc_dt_agg\n",
        "from time_features import mu_std_calculation, is_in_interval, calculate_hours, calculate_periodic_mean, calculate_periodic_std"
      ],
      "execution_count": 0,
      "outputs": []
    },
    {
      "cell_type": "code",
      "metadata": {
        "id": "p5fQkfssoiDe",
        "colab_type": "code",
        "outputId": "70dea664-f6e9-468b-8c4a-5f6514c92a15",
        "colab": {
          "base_uri": "https://localhost:8080/",
          "height": 68
        }
      },
      "source": [
        "!pip install pyarrow==0.16"
      ],
      "execution_count": 3,
      "outputs": [
        {
          "output_type": "stream",
          "text": [
            "Requirement already satisfied: pyarrow==0.16 in /usr/local/lib/python3.6/dist-packages (0.16.0)\n",
            "Requirement already satisfied: numpy>=1.14 in /usr/local/lib/python3.6/dist-packages (from pyarrow==0.16) (1.18.2)\n",
            "Requirement already satisfied: six>=1.0.0 in /usr/local/lib/python3.6/dist-packages (from pyarrow==0.16) (1.12.0)\n"
          ],
          "name": "stdout"
        }
      ]
    },
    {
      "cell_type": "markdown",
      "metadata": {
        "id": "YrBvtfGKrCBh",
        "colab_type": "text"
      },
      "source": [
        "Loading transcton data"
      ]
    },
    {
      "cell_type": "markdown",
      "metadata": {
        "id": "I1R0JX0es-gt",
        "colab_type": "text"
      },
      "source": [
        "Calculating some statistics"
      ]
    },
    {
      "cell_type": "code",
      "metadata": {
        "id": "DUbNd-HA22WN",
        "colab_type": "code",
        "colab": {}
      },
      "source": [
        "path_root_trans = \"/content/drive/My Drive/antifraud/trans_april_may_st0_el_history_card_repart_anon\""
      ],
      "execution_count": 0,
      "outputs": []
    },
    {
      "cell_type": "code",
      "metadata": {
        "id": "FZ0fqSKi80ow",
        "colab_type": "code",
        "colab": {}
      },
      "source": [
        "files_1 = os.listdir(path_root_trans)\n",
        "files_1.sort()"
      ],
      "execution_count": 0,
      "outputs": []
    },
    {
      "cell_type": "code",
      "metadata": {
        "id": "cPlkvPk_rM43",
        "colab_type": "code",
        "colab": {}
      },
      "source": [
        "tr_data = pd.DataFrame()"
      ],
      "execution_count": 0,
      "outputs": []
    },
    {
      "cell_type": "code",
      "metadata": {
        "colab_type": "code",
        "outputId": "007d6ad7-42a6-44eb-ced6-6b6dd61c18ca",
        "id": "oKNAwCESycwd",
        "colab": {
          "base_uri": "https://localhost:8080/",
          "height": 34
        }
      },
      "source": [
        "for i,f in tqdm(enumerate(files_1[1:])):\n",
        "  tr_data = pd.read_parquet(os.path.join(path_root_trans, f))\n",
        "  agg_data = agg_features(tr_data)\n",
        "  agg_data.to_csv(\"/content/drive/My Drive/antifraud/agg/agg_features {}.csv\".format(str(i)))"
      ],
      "execution_count": 8,
      "outputs": [
        {
          "output_type": "stream",
          "text": [
            "101it [20:25, 12.14s/it]\n"
          ],
          "name": "stderr"
        }
      ]
    },
    {
      "cell_type": "code",
      "metadata": {
        "id": "rhSEIdQ_-kE-",
        "colab_type": "code",
        "colab": {
          "base_uri": "https://localhost:8080/",
          "height": 335
        },
        "outputId": "4dee95d4-d2e1-477e-8b3a-abd25b96170e"
      },
      "source": [
        "agg_data.head()"
      ],
      "execution_count": 9,
      "outputs": [
        {
          "output_type": "execute_result",
          "data": {
            "text/html": [
              "<div>\n",
              "<style scoped>\n",
              "    .dataframe tbody tr th:only-of-type {\n",
              "        vertical-align: middle;\n",
              "    }\n",
              "\n",
              "    .dataframe tbody tr th {\n",
              "        vertical-align: top;\n",
              "    }\n",
              "\n",
              "    .dataframe thead th {\n",
              "        text-align: right;\n",
              "    }\n",
              "</style>\n",
              "<table border=\"1\" class=\"dataframe\">\n",
              "  <thead>\n",
              "    <tr style=\"text-align: right;\">\n",
              "      <th></th>\n",
              "      <th>event_type count CARD_PIN_CHANGE</th>\n",
              "      <th>event_type count CLIENT_DEFINED</th>\n",
              "      <th>event_type count DEPOSIT</th>\n",
              "      <th>event_type count PAYMENT</th>\n",
              "      <th>event_type count UPDATE_USER</th>\n",
              "      <th>event_type count VIEW_STATEMENT</th>\n",
              "      <th>event_type count WITHDRAW</th>\n",
              "      <th>event_type mean CARD_PIN_CHANGE</th>\n",
              "      <th>event_type mean CLIENT_DEFINED</th>\n",
              "      <th>event_type mean DEPOSIT</th>\n",
              "      <th>event_type mean PAYMENT</th>\n",
              "      <th>event_type mean UPDATE_USER</th>\n",
              "      <th>event_type mean VIEW_STATEMENT</th>\n",
              "      <th>event_type mean WITHDRAW</th>\n",
              "      <th>event_type count CARD_PIN_CHANGE distr</th>\n",
              "      <th>event_type count CLIENT_DEFINED distr</th>\n",
              "      <th>event_type count DEPOSIT distr</th>\n",
              "      <th>event_type count PAYMENT distr</th>\n",
              "      <th>event_type count UPDATE_USER distr</th>\n",
              "      <th>event_type count VIEW_STATEMENT distr</th>\n",
              "      <th>event_type count WITHDRAW distr</th>\n",
              "      <th>event_type mean CARD_PIN_CHANGE distr</th>\n",
              "      <th>event_type mean CLIENT_DEFINED distr</th>\n",
              "      <th>event_type mean DEPOSIT distr</th>\n",
              "      <th>event_type mean PAYMENT distr</th>\n",
              "      <th>event_type mean UPDATE_USER distr</th>\n",
              "      <th>event_type mean VIEW_STATEMENT distr</th>\n",
              "      <th>event_type mean WITHDRAW distr</th>\n",
              "      <th>user_defined_event_type count ATM_BALANCE</th>\n",
              "      <th>user_defined_event_type count ATM_CASH</th>\n",
              "      <th>user_defined_event_type count ATM_CASH_CHECK</th>\n",
              "      <th>user_defined_event_type count ATM_EDITAUTOPAYMENT</th>\n",
              "      <th>user_defined_event_type count ATM_MINI_ST</th>\n",
              "      <th>user_defined_event_type count ATM_P2P_CHECK</th>\n",
              "      <th>user_defined_event_type count ATM_P2P_CREDIT</th>\n",
              "      <th>user_defined_event_type count ATM_P2P_DEBIT</th>\n",
              "      <th>user_defined_event_type count ATM_PAYMENT</th>\n",
              "      <th>user_defined_event_type count ATM_PHONE</th>\n",
              "      <th>user_defined_event_type count ATM_PIN</th>\n",
              "      <th>user_defined_event_type count ATM_RECEIPT</th>\n",
              "      <th>...</th>\n",
              "      <th>mcc_group count T</th>\n",
              "      <th>mcc_group count U</th>\n",
              "      <th>mcc_group count X</th>\n",
              "      <th>mcc_group count Z</th>\n",
              "      <th>mcc_group mean A</th>\n",
              "      <th>mcc_group mean C</th>\n",
              "      <th>mcc_group mean F</th>\n",
              "      <th>mcc_group mean H</th>\n",
              "      <th>mcc_group mean J</th>\n",
              "      <th>mcc_group mean O</th>\n",
              "      <th>mcc_group mean Q</th>\n",
              "      <th>mcc_group mean R</th>\n",
              "      <th>mcc_group mean T</th>\n",
              "      <th>mcc_group mean U</th>\n",
              "      <th>mcc_group mean X</th>\n",
              "      <th>mcc_group mean Z</th>\n",
              "      <th>mcc_group count A distr</th>\n",
              "      <th>mcc_group count C distr</th>\n",
              "      <th>mcc_group count F distr</th>\n",
              "      <th>mcc_group count H distr</th>\n",
              "      <th>mcc_group count J distr</th>\n",
              "      <th>mcc_group count O distr</th>\n",
              "      <th>mcc_group count Q distr</th>\n",
              "      <th>mcc_group count R distr</th>\n",
              "      <th>mcc_group count T distr</th>\n",
              "      <th>mcc_group count U distr</th>\n",
              "      <th>mcc_group count X distr</th>\n",
              "      <th>mcc_group count Z distr</th>\n",
              "      <th>mcc_group mean A distr</th>\n",
              "      <th>mcc_group mean C distr</th>\n",
              "      <th>mcc_group mean F distr</th>\n",
              "      <th>mcc_group mean H distr</th>\n",
              "      <th>mcc_group mean J distr</th>\n",
              "      <th>mcc_group mean O distr</th>\n",
              "      <th>mcc_group mean Q distr</th>\n",
              "      <th>mcc_group mean R distr</th>\n",
              "      <th>mcc_group mean T distr</th>\n",
              "      <th>mcc_group mean U distr</th>\n",
              "      <th>mcc_group mean X distr</th>\n",
              "      <th>mcc_group mean Z distr</th>\n",
              "    </tr>\n",
              "    <tr>\n",
              "      <th>user_id</th>\n",
              "      <th></th>\n",
              "      <th></th>\n",
              "      <th></th>\n",
              "      <th></th>\n",
              "      <th></th>\n",
              "      <th></th>\n",
              "      <th></th>\n",
              "      <th></th>\n",
              "      <th></th>\n",
              "      <th></th>\n",
              "      <th></th>\n",
              "      <th></th>\n",
              "      <th></th>\n",
              "      <th></th>\n",
              "      <th></th>\n",
              "      <th></th>\n",
              "      <th></th>\n",
              "      <th></th>\n",
              "      <th></th>\n",
              "      <th></th>\n",
              "      <th></th>\n",
              "      <th></th>\n",
              "      <th></th>\n",
              "      <th></th>\n",
              "      <th></th>\n",
              "      <th></th>\n",
              "      <th></th>\n",
              "      <th></th>\n",
              "      <th></th>\n",
              "      <th></th>\n",
              "      <th></th>\n",
              "      <th></th>\n",
              "      <th></th>\n",
              "      <th></th>\n",
              "      <th></th>\n",
              "      <th></th>\n",
              "      <th></th>\n",
              "      <th></th>\n",
              "      <th></th>\n",
              "      <th></th>\n",
              "      <th></th>\n",
              "      <th></th>\n",
              "      <th></th>\n",
              "      <th></th>\n",
              "      <th></th>\n",
              "      <th></th>\n",
              "      <th></th>\n",
              "      <th></th>\n",
              "      <th></th>\n",
              "      <th></th>\n",
              "      <th></th>\n",
              "      <th></th>\n",
              "      <th></th>\n",
              "      <th></th>\n",
              "      <th></th>\n",
              "      <th></th>\n",
              "      <th></th>\n",
              "      <th></th>\n",
              "      <th></th>\n",
              "      <th></th>\n",
              "      <th></th>\n",
              "      <th></th>\n",
              "      <th></th>\n",
              "      <th></th>\n",
              "      <th></th>\n",
              "      <th></th>\n",
              "      <th></th>\n",
              "      <th></th>\n",
              "      <th></th>\n",
              "      <th></th>\n",
              "      <th></th>\n",
              "      <th></th>\n",
              "      <th></th>\n",
              "      <th></th>\n",
              "      <th></th>\n",
              "      <th></th>\n",
              "      <th></th>\n",
              "      <th></th>\n",
              "      <th></th>\n",
              "      <th></th>\n",
              "      <th></th>\n",
              "    </tr>\n",
              "  </thead>\n",
              "  <tbody>\n",
              "    <tr>\n",
              "      <th>100055879</th>\n",
              "      <td>0</td>\n",
              "      <td>0</td>\n",
              "      <td>4</td>\n",
              "      <td>6</td>\n",
              "      <td>0</td>\n",
              "      <td>0</td>\n",
              "      <td>0</td>\n",
              "      <td>0.0</td>\n",
              "      <td>0.0</td>\n",
              "      <td>66555.000000</td>\n",
              "      <td>35533.333333</td>\n",
              "      <td>0.0</td>\n",
              "      <td>0.0</td>\n",
              "      <td>0.000000</td>\n",
              "      <td>0.0</td>\n",
              "      <td>0.000000</td>\n",
              "      <td>0.400000</td>\n",
              "      <td>0.600000</td>\n",
              "      <td>0.0</td>\n",
              "      <td>0.000000</td>\n",
              "      <td>0.000000</td>\n",
              "      <td>0.0</td>\n",
              "      <td>0.0</td>\n",
              "      <td>0.651935</td>\n",
              "      <td>0.348065</td>\n",
              "      <td>0.0</td>\n",
              "      <td>0.000000</td>\n",
              "      <td>0.000000</td>\n",
              "      <td>0</td>\n",
              "      <td>0</td>\n",
              "      <td>0</td>\n",
              "      <td>0</td>\n",
              "      <td>0</td>\n",
              "      <td>0</td>\n",
              "      <td>4</td>\n",
              "      <td>5</td>\n",
              "      <td>1</td>\n",
              "      <td>0</td>\n",
              "      <td>0</td>\n",
              "      <td>0</td>\n",
              "      <td>...</td>\n",
              "      <td>0</td>\n",
              "      <td>5</td>\n",
              "      <td>0</td>\n",
              "      <td>0</td>\n",
              "      <td>0.0</td>\n",
              "      <td>66555.000000</td>\n",
              "      <td>0.000000</td>\n",
              "      <td>0.0</td>\n",
              "      <td>0.0</td>\n",
              "      <td>0.0</td>\n",
              "      <td>0.0</td>\n",
              "      <td>1000.000000</td>\n",
              "      <td>0.0</td>\n",
              "      <td>42440.000000</td>\n",
              "      <td>0.0</td>\n",
              "      <td>0.000000</td>\n",
              "      <td>0.0</td>\n",
              "      <td>0.400000</td>\n",
              "      <td>0.000000</td>\n",
              "      <td>0.00000</td>\n",
              "      <td>0.0</td>\n",
              "      <td>0.0</td>\n",
              "      <td>0.000000</td>\n",
              "      <td>0.100000</td>\n",
              "      <td>0.000000</td>\n",
              "      <td>0.500000</td>\n",
              "      <td>0.000000</td>\n",
              "      <td>0.000000</td>\n",
              "      <td>0.0</td>\n",
              "      <td>0.605073</td>\n",
              "      <td>0.000000</td>\n",
              "      <td>0.000000</td>\n",
              "      <td>0.0</td>\n",
              "      <td>0.0</td>\n",
              "      <td>0.000000</td>\n",
              "      <td>0.009091</td>\n",
              "      <td>0.000000</td>\n",
              "      <td>0.385836</td>\n",
              "      <td>0.000000</td>\n",
              "      <td>0.000000</td>\n",
              "    </tr>\n",
              "    <tr>\n",
              "      <th>100061768</th>\n",
              "      <td>0</td>\n",
              "      <td>0</td>\n",
              "      <td>33</td>\n",
              "      <td>62</td>\n",
              "      <td>0</td>\n",
              "      <td>5</td>\n",
              "      <td>9</td>\n",
              "      <td>0.0</td>\n",
              "      <td>0.0</td>\n",
              "      <td>2310.213939</td>\n",
              "      <td>540.653710</td>\n",
              "      <td>0.0</td>\n",
              "      <td>0.0</td>\n",
              "      <td>4450.000000</td>\n",
              "      <td>0.0</td>\n",
              "      <td>0.000000</td>\n",
              "      <td>0.302752</td>\n",
              "      <td>0.568807</td>\n",
              "      <td>0.0</td>\n",
              "      <td>0.045872</td>\n",
              "      <td>0.082569</td>\n",
              "      <td>0.0</td>\n",
              "      <td>0.0</td>\n",
              "      <td>0.316430</td>\n",
              "      <td>0.074053</td>\n",
              "      <td>0.0</td>\n",
              "      <td>0.000000</td>\n",
              "      <td>0.609517</td>\n",
              "      <td>5</td>\n",
              "      <td>9</td>\n",
              "      <td>9</td>\n",
              "      <td>0</td>\n",
              "      <td>0</td>\n",
              "      <td>0</td>\n",
              "      <td>15</td>\n",
              "      <td>15</td>\n",
              "      <td>6</td>\n",
              "      <td>0</td>\n",
              "      <td>0</td>\n",
              "      <td>0</td>\n",
              "      <td>...</td>\n",
              "      <td>0</td>\n",
              "      <td>15</td>\n",
              "      <td>0</td>\n",
              "      <td>32</td>\n",
              "      <td>0.0</td>\n",
              "      <td>4664.466154</td>\n",
              "      <td>490.000000</td>\n",
              "      <td>0.0</td>\n",
              "      <td>0.0</td>\n",
              "      <td>0.0</td>\n",
              "      <td>0.0</td>\n",
              "      <td>380.523659</td>\n",
              "      <td>0.0</td>\n",
              "      <td>1172.604000</td>\n",
              "      <td>0.0</td>\n",
              "      <td>1626.843750</td>\n",
              "      <td>0.0</td>\n",
              "      <td>0.119266</td>\n",
              "      <td>0.073394</td>\n",
              "      <td>0.00000</td>\n",
              "      <td>0.0</td>\n",
              "      <td>0.0</td>\n",
              "      <td>0.000000</td>\n",
              "      <td>0.376147</td>\n",
              "      <td>0.000000</td>\n",
              "      <td>0.137615</td>\n",
              "      <td>0.000000</td>\n",
              "      <td>0.293578</td>\n",
              "      <td>0.0</td>\n",
              "      <td>0.559662</td>\n",
              "      <td>0.058792</td>\n",
              "      <td>0.000000</td>\n",
              "      <td>0.0</td>\n",
              "      <td>0.0</td>\n",
              "      <td>0.000000</td>\n",
              "      <td>0.045657</td>\n",
              "      <td>0.000000</td>\n",
              "      <td>0.140694</td>\n",
              "      <td>0.000000</td>\n",
              "      <td>0.195195</td>\n",
              "    </tr>\n",
              "    <tr>\n",
              "      <th>100065250</th>\n",
              "      <td>0</td>\n",
              "      <td>0</td>\n",
              "      <td>42</td>\n",
              "      <td>106</td>\n",
              "      <td>0</td>\n",
              "      <td>3</td>\n",
              "      <td>36</td>\n",
              "      <td>0.0</td>\n",
              "      <td>0.0</td>\n",
              "      <td>41586.857143</td>\n",
              "      <td>14199.639151</td>\n",
              "      <td>0.0</td>\n",
              "      <td>0.0</td>\n",
              "      <td>42250.000000</td>\n",
              "      <td>0.0</td>\n",
              "      <td>0.000000</td>\n",
              "      <td>0.224599</td>\n",
              "      <td>0.566845</td>\n",
              "      <td>0.0</td>\n",
              "      <td>0.016043</td>\n",
              "      <td>0.192513</td>\n",
              "      <td>0.0</td>\n",
              "      <td>0.0</td>\n",
              "      <td>0.424198</td>\n",
              "      <td>0.144840</td>\n",
              "      <td>0.0</td>\n",
              "      <td>0.000000</td>\n",
              "      <td>0.430962</td>\n",
              "      <td>3</td>\n",
              "      <td>1</td>\n",
              "      <td>1</td>\n",
              "      <td>0</td>\n",
              "      <td>0</td>\n",
              "      <td>0</td>\n",
              "      <td>40</td>\n",
              "      <td>56</td>\n",
              "      <td>27</td>\n",
              "      <td>0</td>\n",
              "      <td>0</td>\n",
              "      <td>0</td>\n",
              "      <td>...</td>\n",
              "      <td>3</td>\n",
              "      <td>56</td>\n",
              "      <td>0</td>\n",
              "      <td>40</td>\n",
              "      <td>0.0</td>\n",
              "      <td>43641.175000</td>\n",
              "      <td>0.000000</td>\n",
              "      <td>0.0</td>\n",
              "      <td>0.0</td>\n",
              "      <td>0.0</td>\n",
              "      <td>4000.0</td>\n",
              "      <td>524.058511</td>\n",
              "      <td>2802.0</td>\n",
              "      <td>26287.946429</td>\n",
              "      <td>0.0</td>\n",
              "      <td>37950.025000</td>\n",
              "      <td>0.0</td>\n",
              "      <td>0.213904</td>\n",
              "      <td>0.000000</td>\n",
              "      <td>0.00000</td>\n",
              "      <td>0.0</td>\n",
              "      <td>0.0</td>\n",
              "      <td>0.005348</td>\n",
              "      <td>0.251337</td>\n",
              "      <td>0.016043</td>\n",
              "      <td>0.299465</td>\n",
              "      <td>0.000000</td>\n",
              "      <td>0.213904</td>\n",
              "      <td>0.0</td>\n",
              "      <td>0.378813</td>\n",
              "      <td>0.000000</td>\n",
              "      <td>0.000000</td>\n",
              "      <td>0.0</td>\n",
              "      <td>0.0</td>\n",
              "      <td>0.034721</td>\n",
              "      <td>0.004549</td>\n",
              "      <td>0.024322</td>\n",
              "      <td>0.228184</td>\n",
              "      <td>0.000000</td>\n",
              "      <td>0.329412</td>\n",
              "    </tr>\n",
              "    <tr>\n",
              "      <th>100067271</th>\n",
              "      <td>0</td>\n",
              "      <td>0</td>\n",
              "      <td>113</td>\n",
              "      <td>332</td>\n",
              "      <td>0</td>\n",
              "      <td>0</td>\n",
              "      <td>18</td>\n",
              "      <td>0.0</td>\n",
              "      <td>0.0</td>\n",
              "      <td>24363.778761</td>\n",
              "      <td>9328.803193</td>\n",
              "      <td>0.0</td>\n",
              "      <td>0.0</td>\n",
              "      <td>42761.111111</td>\n",
              "      <td>0.0</td>\n",
              "      <td>0.000000</td>\n",
              "      <td>0.244060</td>\n",
              "      <td>0.717063</td>\n",
              "      <td>0.0</td>\n",
              "      <td>0.000000</td>\n",
              "      <td>0.038877</td>\n",
              "      <td>0.0</td>\n",
              "      <td>0.0</td>\n",
              "      <td>0.318674</td>\n",
              "      <td>0.122019</td>\n",
              "      <td>0.0</td>\n",
              "      <td>0.000000</td>\n",
              "      <td>0.559307</td>\n",
              "      <td>0</td>\n",
              "      <td>7</td>\n",
              "      <td>7</td>\n",
              "      <td>0</td>\n",
              "      <td>0</td>\n",
              "      <td>0</td>\n",
              "      <td>99</td>\n",
              "      <td>125</td>\n",
              "      <td>5</td>\n",
              "      <td>0</td>\n",
              "      <td>0</td>\n",
              "      <td>0</td>\n",
              "      <td>...</td>\n",
              "      <td>0</td>\n",
              "      <td>125</td>\n",
              "      <td>5</td>\n",
              "      <td>32</td>\n",
              "      <td>0.0</td>\n",
              "      <td>25829.292929</td>\n",
              "      <td>246.698475</td>\n",
              "      <td>21.6</td>\n",
              "      <td>0.0</td>\n",
              "      <td>0.0</td>\n",
              "      <td>0.0</td>\n",
              "      <td>698.280634</td>\n",
              "      <td>0.0</td>\n",
              "      <td>23847.200000</td>\n",
              "      <td>506.0</td>\n",
              "      <td>30178.343750</td>\n",
              "      <td>0.0</td>\n",
              "      <td>0.213823</td>\n",
              "      <td>0.127430</td>\n",
              "      <td>0.00216</td>\n",
              "      <td>0.0</td>\n",
              "      <td>0.0</td>\n",
              "      <td>0.000000</td>\n",
              "      <td>0.306695</td>\n",
              "      <td>0.000000</td>\n",
              "      <td>0.269978</td>\n",
              "      <td>0.010799</td>\n",
              "      <td>0.069114</td>\n",
              "      <td>0.0</td>\n",
              "      <td>0.317596</td>\n",
              "      <td>0.003033</td>\n",
              "      <td>0.000266</td>\n",
              "      <td>0.0</td>\n",
              "      <td>0.0</td>\n",
              "      <td>0.000000</td>\n",
              "      <td>0.008586</td>\n",
              "      <td>0.000000</td>\n",
              "      <td>0.293225</td>\n",
              "      <td>0.006222</td>\n",
              "      <td>0.371072</td>\n",
              "    </tr>\n",
              "    <tr>\n",
              "      <th>100084288</th>\n",
              "      <td>0</td>\n",
              "      <td>4</td>\n",
              "      <td>692</td>\n",
              "      <td>460</td>\n",
              "      <td>0</td>\n",
              "      <td>3</td>\n",
              "      <td>9</td>\n",
              "      <td>0.0</td>\n",
              "      <td>0.0</td>\n",
              "      <td>5058.692197</td>\n",
              "      <td>6626.227217</td>\n",
              "      <td>0.0</td>\n",
              "      <td>1.0</td>\n",
              "      <td>20800.000000</td>\n",
              "      <td>0.0</td>\n",
              "      <td>0.003425</td>\n",
              "      <td>0.592466</td>\n",
              "      <td>0.393836</td>\n",
              "      <td>0.0</td>\n",
              "      <td>0.002568</td>\n",
              "      <td>0.007705</td>\n",
              "      <td>0.0</td>\n",
              "      <td>0.0</td>\n",
              "      <td>0.155720</td>\n",
              "      <td>0.203972</td>\n",
              "      <td>0.0</td>\n",
              "      <td>0.000031</td>\n",
              "      <td>0.640277</td>\n",
              "      <td>0</td>\n",
              "      <td>58</td>\n",
              "      <td>61</td>\n",
              "      <td>0</td>\n",
              "      <td>0</td>\n",
              "      <td>0</td>\n",
              "      <td>573</td>\n",
              "      <td>388</td>\n",
              "      <td>62</td>\n",
              "      <td>0</td>\n",
              "      <td>0</td>\n",
              "      <td>3</td>\n",
              "      <td>...</td>\n",
              "      <td>0</td>\n",
              "      <td>346</td>\n",
              "      <td>0</td>\n",
              "      <td>131</td>\n",
              "      <td>0.0</td>\n",
              "      <td>2037.352734</td>\n",
              "      <td>0.000000</td>\n",
              "      <td>0.0</td>\n",
              "      <td>0.0</td>\n",
              "      <td>0.0</td>\n",
              "      <td>0.0</td>\n",
              "      <td>2706.177851</td>\n",
              "      <td>0.0</td>\n",
              "      <td>7881.508671</td>\n",
              "      <td>0.0</td>\n",
              "      <td>19284.381679</td>\n",
              "      <td>0.0</td>\n",
              "      <td>0.486695</td>\n",
              "      <td>0.000000</td>\n",
              "      <td>0.00000</td>\n",
              "      <td>0.0</td>\n",
              "      <td>0.0</td>\n",
              "      <td>0.000000</td>\n",
              "      <td>0.103863</td>\n",
              "      <td>0.000000</td>\n",
              "      <td>0.296996</td>\n",
              "      <td>0.000000</td>\n",
              "      <td>0.112446</td>\n",
              "      <td>0.0</td>\n",
              "      <td>0.063848</td>\n",
              "      <td>0.000000</td>\n",
              "      <td>0.000000</td>\n",
              "      <td>0.0</td>\n",
              "      <td>0.0</td>\n",
              "      <td>0.000000</td>\n",
              "      <td>0.084808</td>\n",
              "      <td>0.000000</td>\n",
              "      <td>0.246996</td>\n",
              "      <td>0.000000</td>\n",
              "      <td>0.604348</td>\n",
              "    </tr>\n",
              "  </tbody>\n",
              "</table>\n",
              "<p>5 rows × 184 columns</p>\n",
              "</div>"
            ],
            "text/plain": [
              "           event_type count CARD_PIN_CHANGE  ...  mcc_group mean Z distr\n",
              "user_id                                      ...                        \n",
              "100055879                                 0  ...                0.000000\n",
              "100061768                                 0  ...                0.195195\n",
              "100065250                                 0  ...                0.329412\n",
              "100067271                                 0  ...                0.371072\n",
              "100084288                                 0  ...                0.604348\n",
              "\n",
              "[5 rows x 184 columns]"
            ]
          },
          "metadata": {
            "tags": []
          },
          "execution_count": 9
        }
      ]
    },
    {
      "cell_type": "code",
      "metadata": {
        "id": "mRViXQcpye2p",
        "colab_type": "code",
        "colab": {}
      },
      "source": [
        "files_2 = os.listdir('/content/drive/My Drive/antifraud')\n",
        "files_2 = [f for f in files_2 if f[-3:] == 'csv']"
      ],
      "execution_count": 0,
      "outputs": []
    },
    {
      "cell_type": "code",
      "metadata": {
        "id": "r4GFBADn46Sl",
        "colab_type": "code",
        "outputId": "25f996ed-193d-40e0-a3c2-d6b2ee061ad1",
        "colab": {
          "base_uri": "https://localhost:8080/",
          "height": 51
        }
      },
      "source": [
        "for i, f in enumerate(files_2):\n",
        "  tr_data = pd.read_csv(os.path.join('/content/drive/My Drive/antifraud', f))\n",
        "  tr_data = mu_std_calculation(tr_data)\n",
        "  tr_data.to_csv(\"/content/drive/My Drive/antifraud/agg/time_features {}.csv\".format(str(i)))"
      ],
      "execution_count": 0,
      "outputs": [
        {
          "output_type": "stream",
          "text": [
            "/content/time_features.py:75: RuntimeWarning: invalid value encountered in sqrt\n",
            "  std = np.sqrt(np.log(1/(np.power(sin, 2)+np.power(cos, 2))))\n"
          ],
          "name": "stderr"
        }
      ]
    },
    {
      "cell_type": "markdown",
      "metadata": {
        "id": "9C71uacu-Tb6",
        "colab_type": "text"
      },
      "source": [
        "Loading targets for persons"
      ]
    },
    {
      "cell_type": "code",
      "metadata": {
        "id": "MHg_X-vU54i-",
        "colab_type": "code",
        "colab": {}
      },
      "source": [
        "path_root_agg = \"/content/drive/My Drive/antifraud/trans_april_may_st3_agg\""
      ],
      "execution_count": 0,
      "outputs": []
    },
    {
      "cell_type": "code",
      "metadata": {
        "id": "S0UvRZr7-hfA",
        "colab_type": "code",
        "colab": {}
      },
      "source": [
        "tr_data = pd.DataFrame()"
      ],
      "execution_count": 0,
      "outputs": []
    },
    {
      "cell_type": "code",
      "metadata": {
        "id": "f0JU1cS0-jcP",
        "colab_type": "code",
        "colab": {}
      },
      "source": [
        "files = os.listdir(path_root_agg)\n",
        "files.sort()"
      ],
      "execution_count": 0,
      "outputs": []
    },
    {
      "cell_type": "code",
      "metadata": {
        "id": "DNEZukWw-leH",
        "colab_type": "code",
        "outputId": "7b977227-49d7-4a6b-8023-dfe0b941e504",
        "colab": {
          "base_uri": "https://localhost:8080/",
          "height": 34
        }
      },
      "source": [
        "for f in tqdm(files[1:]):\n",
        "  tr_data = tr_data.append(pd.read_parquet(os.path.join(path_root_agg, f)))"
      ],
      "execution_count": 0,
      "outputs": [
        {
          "output_type": "stream",
          "text": [
            "100%|██████████| 200/200 [07:58<00:00,  2.39s/it]\n"
          ],
          "name": "stderr"
        }
      ]
    },
    {
      "cell_type": "code",
      "metadata": {
        "id": "PsFUXzp4-oJQ",
        "colab_type": "code",
        "colab": {}
      },
      "source": [
        "path_root_trans = \"/content/drive/My Drive/antifraud/trans_april_may_st0_markup_incoming_transactions_anon\""
      ],
      "execution_count": 0,
      "outputs": []
    },
    {
      "cell_type": "code",
      "metadata": {
        "id": "u2u0lLb_ABcG",
        "colab_type": "code",
        "colab": {}
      },
      "source": [
        "data_trans = pd.DataFrame()"
      ],
      "execution_count": 0,
      "outputs": []
    },
    {
      "cell_type": "code",
      "metadata": {
        "id": "8vNl1op1AclF",
        "colab_type": "code",
        "colab": {}
      },
      "source": [
        "files = os.listdir(path_root_trans)\n",
        "files.sort()"
      ],
      "execution_count": 0,
      "outputs": []
    },
    {
      "cell_type": "code",
      "metadata": {
        "id": "1qBntXeOE6l-",
        "colab_type": "code",
        "outputId": "ccf1baf9-61b1-4c5b-bca4-3bc840a0a77c",
        "colab": {
          "base_uri": "https://localhost:8080/",
          "height": 153
        }
      },
      "source": [
        "files"
      ],
      "execution_count": 0,
      "outputs": [
        {
          "output_type": "execute_result",
          "data": {
            "text/plain": [
              "['_SUCCESS',\n",
              " 'part-00000-bb6611c7-f26e-48ad-a37d-f13d9d7e4749-c000.snappy.parquet',\n",
              " 'part-00001-bb6611c7-f26e-48ad-a37d-f13d9d7e4749-c000.snappy.parquet',\n",
              " 'part-00002-bb6611c7-f26e-48ad-a37d-f13d9d7e4749-c000.snappy.parquet',\n",
              " 'part-00003-bb6611c7-f26e-48ad-a37d-f13d9d7e4749-c000.snappy.parquet',\n",
              " 'part-00004-bb6611c7-f26e-48ad-a37d-f13d9d7e4749-c000.snappy.parquet',\n",
              " 'part-00005-bb6611c7-f26e-48ad-a37d-f13d9d7e4749-c000.snappy.parquet',\n",
              " 'part-00006-bb6611c7-f26e-48ad-a37d-f13d9d7e4749-c000.snappy.parquet']"
            ]
          },
          "metadata": {
            "tags": []
          },
          "execution_count": 33
        }
      ]
    },
    {
      "cell_type": "code",
      "metadata": {
        "id": "cRFBG2ZXAgrx",
        "colab_type": "code",
        "outputId": "71150198-fcec-40d5-8497-b853b4e65ee6",
        "colab": {
          "base_uri": "https://localhost:8080/",
          "height": 34
        }
      },
      "source": [
        "for f in tqdm(files[1:]):\n",
        "  data_trans = data_trans.append(pd.read_parquet(os.path.join(path_root_trans, f)))"
      ],
      "execution_count": 0,
      "outputs": [
        {
          "output_type": "stream",
          "text": [
            "100%|██████████| 7/7 [00:00<00:00, 20.56it/s]\n"
          ],
          "name": "stderr"
        }
      ]
    },
    {
      "cell_type": "code",
      "metadata": {
        "id": "IFbNELYOApuv",
        "colab_type": "code",
        "outputId": "236fc4c7-d52a-45e9-daca-796a2c4ae4a4",
        "colab": {
          "base_uri": "https://localhost:8080/",
          "height": 419
        }
      },
      "source": [
        "data_trans"
      ],
      "execution_count": 0,
      "outputs": [
        {
          "output_type": "execute_result",
          "data": {
            "text/html": [
              "<div>\n",
              "<style scoped>\n",
              "    .dataframe tbody tr th:only-of-type {\n",
              "        vertical-align: middle;\n",
              "    }\n",
              "\n",
              "    .dataframe tbody tr th {\n",
              "        vertical-align: top;\n",
              "    }\n",
              "\n",
              "    .dataframe thead th {\n",
              "        text-align: right;\n",
              "    }\n",
              "</style>\n",
              "<table border=\"1\" class=\"dataframe\">\n",
              "  <thead>\n",
              "    <tr style=\"text-align: right;\">\n",
              "      <th></th>\n",
              "      <th>event_id</th>\n",
              "      <th>user_id</th>\n",
              "      <th>user_id_rcvr</th>\n",
              "      <th>policy_action</th>\n",
              "      <th>risk_score</th>\n",
              "      <th>amount_original</th>\n",
              "      <th>event_time_</th>\n",
              "    </tr>\n",
              "  </thead>\n",
              "  <tbody>\n",
              "    <tr>\n",
              "      <th>0</th>\n",
              "      <td>83cfb3a65bd943f18c4da6dc653ccf68</td>\n",
              "      <td>1870825</td>\n",
              "      <td>5540217</td>\n",
              "      <td>REVIEW</td>\n",
              "      <td>684</td>\n",
              "      <td>120000</td>\n",
              "      <td>1.554394e+09</td>\n",
              "    </tr>\n",
              "    <tr>\n",
              "      <th>1</th>\n",
              "      <td>a9cc86a4e52a4d898e6f593f50515be0</td>\n",
              "      <td>23465860</td>\n",
              "      <td>26903133</td>\n",
              "      <td>REVIEW</td>\n",
              "      <td>967</td>\n",
              "      <td>16000</td>\n",
              "      <td>1.554463e+09</td>\n",
              "    </tr>\n",
              "    <tr>\n",
              "      <th>2</th>\n",
              "      <td>b855e9868024450593239d34d4610513</td>\n",
              "      <td>MBK9395053</td>\n",
              "      <td>MBK9836211</td>\n",
              "      <td>REVIEW</td>\n",
              "      <td>994</td>\n",
              "      <td>10000</td>\n",
              "      <td>1.554536e+09</td>\n",
              "    </tr>\n",
              "    <tr>\n",
              "      <th>3</th>\n",
              "      <td>4514599aa3f54aa497311dc9289dfd2d</td>\n",
              "      <td>37570001</td>\n",
              "      <td>37140634</td>\n",
              "      <td>REVIEW</td>\n",
              "      <td>733</td>\n",
              "      <td>340000</td>\n",
              "      <td>1.554549e+09</td>\n",
              "    </tr>\n",
              "    <tr>\n",
              "      <th>4</th>\n",
              "      <td>63592180fc8b4a55a3c0fa12d0f79fa4</td>\n",
              "      <td>29705334</td>\n",
              "      <td>53214797</td>\n",
              "      <td>REVIEW</td>\n",
              "      <td>977</td>\n",
              "      <td>10000</td>\n",
              "      <td>1.554810e+09</td>\n",
              "    </tr>\n",
              "    <tr>\n",
              "      <th>...</th>\n",
              "      <td>...</td>\n",
              "      <td>...</td>\n",
              "      <td>...</td>\n",
              "      <td>...</td>\n",
              "      <td>...</td>\n",
              "      <td>...</td>\n",
              "      <td>...</td>\n",
              "    </tr>\n",
              "    <tr>\n",
              "      <th>14362</th>\n",
              "      <td>fb661f33d21f471fa936599cedbd47ab</td>\n",
              "      <td>49194968</td>\n",
              "      <td>11585469</td>\n",
              "      <td>REVIEW</td>\n",
              "      <td>536</td>\n",
              "      <td>15000</td>\n",
              "      <td>1.555313e+09</td>\n",
              "    </tr>\n",
              "    <tr>\n",
              "      <th>14363</th>\n",
              "      <td>d747ed5790554244b2f65972fd5c0059</td>\n",
              "      <td>2026042</td>\n",
              "      <td>22818226</td>\n",
              "      <td>REVIEW</td>\n",
              "      <td>650</td>\n",
              "      <td>8000</td>\n",
              "      <td>1.555915e+09</td>\n",
              "    </tr>\n",
              "    <tr>\n",
              "      <th>14364</th>\n",
              "      <td>6bb49760d44c48bfbbfc5378e5167da6</td>\n",
              "      <td>MBK5632283</td>\n",
              "      <td>19364183</td>\n",
              "      <td>REVIEW</td>\n",
              "      <td>644</td>\n",
              "      <td>25000</td>\n",
              "      <td>1.554291e+09</td>\n",
              "    </tr>\n",
              "    <tr>\n",
              "      <th>14365</th>\n",
              "      <td>f3d48a2d15c14effb267678b16eba53d</td>\n",
              "      <td>28570186</td>\n",
              "      <td>59430976</td>\n",
              "      <td>REVIEW</td>\n",
              "      <td>796</td>\n",
              "      <td>179000</td>\n",
              "      <td>1.556518e+09</td>\n",
              "    </tr>\n",
              "    <tr>\n",
              "      <th>14366</th>\n",
              "      <td>f970a3da8a444ca08e82a65221bf5e7c</td>\n",
              "      <td>101199501</td>\n",
              "      <td>56841199</td>\n",
              "      <td>REVIEW</td>\n",
              "      <td>992</td>\n",
              "      <td>8000</td>\n",
              "      <td>1.555336e+09</td>\n",
              "    </tr>\n",
              "  </tbody>\n",
              "</table>\n",
              "<p>230918 rows × 7 columns</p>\n",
              "</div>"
            ],
            "text/plain": [
              "                               event_id  ...   event_time_\n",
              "0      83cfb3a65bd943f18c4da6dc653ccf68  ...  1.554394e+09\n",
              "1      a9cc86a4e52a4d898e6f593f50515be0  ...  1.554463e+09\n",
              "2      b855e9868024450593239d34d4610513  ...  1.554536e+09\n",
              "3      4514599aa3f54aa497311dc9289dfd2d  ...  1.554549e+09\n",
              "4      63592180fc8b4a55a3c0fa12d0f79fa4  ...  1.554810e+09\n",
              "...                                 ...  ...           ...\n",
              "14362  fb661f33d21f471fa936599cedbd47ab  ...  1.555313e+09\n",
              "14363  d747ed5790554244b2f65972fd5c0059  ...  1.555915e+09\n",
              "14364  6bb49760d44c48bfbbfc5378e5167da6  ...  1.554291e+09\n",
              "14365  f3d48a2d15c14effb267678b16eba53d  ...  1.556518e+09\n",
              "14366  f970a3da8a444ca08e82a65221bf5e7c  ...  1.555336e+09\n",
              "\n",
              "[230918 rows x 7 columns]"
            ]
          },
          "metadata": {
            "tags": []
          },
          "execution_count": 20
        }
      ]
    },
    {
      "cell_type": "code",
      "metadata": {
        "id": "4_YPT2UWDJ6n",
        "colab_type": "code",
        "colab": {}
      },
      "source": [
        "ids1 = set(tr_data.event_id)"
      ],
      "execution_count": 0,
      "outputs": []
    },
    {
      "cell_type": "code",
      "metadata": {
        "id": "3Z40F1suDuUW",
        "colab_type": "code",
        "colab": {}
      },
      "source": [
        "ids2 = set(data_trans.event_id)"
      ],
      "execution_count": 0,
      "outputs": []
    },
    {
      "cell_type": "code",
      "metadata": {
        "id": "GI7c57bIFRdy",
        "colab_type": "code",
        "colab": {}
      },
      "source": [
        "target_ids = ids1.intersection(ids2)"
      ],
      "execution_count": 0,
      "outputs": []
    },
    {
      "cell_type": "code",
      "metadata": {
        "id": "vPe1-u3-FmR7",
        "colab_type": "code",
        "outputId": "44b48ae2-15cd-459d-9c1f-aa42dad2ec72",
        "colab": {
          "base_uri": "https://localhost:8080/",
          "height": 34
        }
      },
      "source": [
        "len(target_ids)"
      ],
      "execution_count": 0,
      "outputs": [
        {
          "output_type": "execute_result",
          "data": {
            "text/plain": [
              "223224"
            ]
          },
          "metadata": {
            "tags": []
          },
          "execution_count": 24
        }
      ]
    },
    {
      "cell_type": "code",
      "metadata": {
        "id": "CDbfZxJvFs-p",
        "colab_type": "code",
        "colab": {}
      },
      "source": [
        "target = tr_data[tr_data.event_id.isin(target_ids)][[\"event_id\", \"USER_ID\",\t\"USER_ID_RCVR\",\t\"CLASS\"]]"
      ],
      "execution_count": 0,
      "outputs": []
    },
    {
      "cell_type": "markdown",
      "metadata": {
        "id": "GywA5RShELLU",
        "colab_type": "text"
      },
      "source": [
        "Разделим на треин и тест чтобы пересечения по клиентам не было"
      ]
    },
    {
      "cell_type": "code",
      "metadata": {
        "id": "ot79T3SKAWjh",
        "colab_type": "code",
        "colab": {}
      },
      "source": [
        "from sklearn.model_selection import train_test_split"
      ],
      "execution_count": 0,
      "outputs": []
    },
    {
      "cell_type": "code",
      "metadata": {
        "id": "TDRvIn60C2V8",
        "colab_type": "code",
        "colab": {}
      },
      "source": [
        "def tr_tst_split(tr):\n",
        "    genue = tr[tr.CLASS == 0].sort_values(\"USER_ID_RCVR\")\n",
        "    fraud = tr[tr.CLASS == 1].sort_values(\"USER_ID_RCVR\")\n",
        "    \n",
        "    fraud_tr, fraud_tst = train_test_split(fraud, test_size = 0.2, shuffle = False)\n",
        "    genue_tr, genue_tst = train_test_split(genue, test_size = 0.2, shuffle = False)\n",
        "    print(set(fraud_tr.USER_ID_RCVR).intersection(fraud_tst.USER_ID_RCVR))\n",
        "    print(len(set(fraud_tr.USER_ID).intersection(fraud_tst.USER_ID)))\n",
        "    \n",
        "    return pd.concat([fraud_tr, genue_tr]), pd.concat([fraud_tst, genue_tst])"
      ],
      "execution_count": 0,
      "outputs": []
    },
    {
      "cell_type": "code",
      "metadata": {
        "id": "jMXvlFAhDsGH",
        "colab_type": "code",
        "outputId": "c4389db8-e1f6-4c8c-bba7-5bdf04d32974",
        "colab": {
          "base_uri": "https://localhost:8080/",
          "height": 51
        }
      },
      "source": [
        "target_train, target_test = tr_tst_split(target)"
      ],
      "execution_count": 0,
      "outputs": [
        {
          "output_type": "stream",
          "text": [
            "set()\n",
            "44\n"
          ],
          "name": "stdout"
        }
      ]
    },
    {
      "cell_type": "markdown",
      "metadata": {
        "id": "F1an0OR9Ghb4",
        "colab_type": "text"
      },
      "source": [
        "Посмотрим распределение по времени у мошенников и нормальных людей"
      ]
    },
    {
      "cell_type": "code",
      "metadata": {
        "id": "s5tZB7JdFwr9",
        "colab_type": "code",
        "colab": {}
      },
      "source": [
        "def genue_fraud_mu_std(tr_hist, tr):\n",
        "    genue = tr[tr.CLASS == 0][[\"USER_ID\", \"USER_ID_RCVR\"]].values.ravel()\n",
        "    fraud = tr[tr.CLASS == 1].USER_ID_RCVR\n",
        "    \n",
        "    fr_times = calculate_hours(tr_hist[tr_hist.user_id.isin(fraud)].event_time)\n",
        "    gn_times = calculate_hours(tr_hist[tr_hist.user_id.isin(genue)].event_time)\n",
        "    \n",
        "    fr_mu = calculate_periodic_mean(fr_times)\n",
        "    fr_std = calculate_periodic_std(fr_times)\n",
        "    \n",
        "    gn_mu = calculate_periodic_mean(gn_times)\n",
        "    gn_std = calculate_periodic_std(gn_times)\n",
        "    \n",
        "    return [fr_mu, fr_std, gn_mu, gn_std]"
      ],
      "execution_count": 0,
      "outputs": []
    },
    {
      "cell_type": "code",
      "metadata": {
        "id": "-Q2SuJSQR_69",
        "colab_type": "code",
        "colab": {}
      },
      "source": [
        "time_data = pd.DataFrame()"
      ],
      "execution_count": 0,
      "outputs": []
    },
    {
      "cell_type": "code",
      "metadata": {
        "id": "Uej6fNxyOaFz",
        "colab_type": "code",
        "colab": {}
      },
      "source": [
        "for i, f in enumerate(files_2):\n",
        "  time_data = pd.concat((time_data, pd.read_csv(os.path.join('/content/drive/My Drive/antifraud', f))))"
      ],
      "execution_count": 0,
      "outputs": []
    },
    {
      "cell_type": "code",
      "metadata": {
        "id": "n5OTzTUlRShA",
        "colab_type": "code",
        "outputId": "21840e54-9651-41f6-fce1-de1c329f6e26",
        "colab": {
          "base_uri": "https://localhost:8080/",
          "height": 419
        }
      },
      "source": [
        "time_data"
      ],
      "execution_count": 0,
      "outputs": [
        {
          "output_type": "execute_result",
          "data": {
            "text/html": [
              "<div>\n",
              "<style scoped>\n",
              "    .dataframe tbody tr th:only-of-type {\n",
              "        vertical-align: middle;\n",
              "    }\n",
              "\n",
              "    .dataframe tbody tr th {\n",
              "        vertical-align: top;\n",
              "    }\n",
              "\n",
              "    .dataframe thead th {\n",
              "        text-align: right;\n",
              "    }\n",
              "</style>\n",
              "<table border=\"1\" class=\"dataframe\">\n",
              "  <thead>\n",
              "    <tr style=\"text-align: right;\">\n",
              "      <th></th>\n",
              "      <th>Unnamed: 0</th>\n",
              "      <th>user_id</th>\n",
              "      <th>event_time</th>\n",
              "      <th>atm_mcc</th>\n",
              "    </tr>\n",
              "  </thead>\n",
              "  <tbody>\n",
              "    <tr>\n",
              "      <th>0</th>\n",
              "      <td>0</td>\n",
              "      <td>91970740</td>\n",
              "      <td>1550251213000</td>\n",
              "      <td>6011.0</td>\n",
              "    </tr>\n",
              "    <tr>\n",
              "      <th>1</th>\n",
              "      <td>1</td>\n",
              "      <td>43335883</td>\n",
              "      <td>1549910159000</td>\n",
              "      <td>5411.0</td>\n",
              "    </tr>\n",
              "    <tr>\n",
              "      <th>2</th>\n",
              "      <td>2</td>\n",
              "      <td>MBK5659333</td>\n",
              "      <td>1556169012000</td>\n",
              "      <td>6010.0</td>\n",
              "    </tr>\n",
              "    <tr>\n",
              "      <th>3</th>\n",
              "      <td>3</td>\n",
              "      <td>31705480</td>\n",
              "      <td>1550579547000</td>\n",
              "      <td>6010.0</td>\n",
              "    </tr>\n",
              "    <tr>\n",
              "      <th>4</th>\n",
              "      <td>4</td>\n",
              "      <td>18469968</td>\n",
              "      <td>1550582802000</td>\n",
              "      <td>5411.0</td>\n",
              "    </tr>\n",
              "    <tr>\n",
              "      <th>...</th>\n",
              "      <td>...</td>\n",
              "      <td>...</td>\n",
              "      <td>...</td>\n",
              "      <td>...</td>\n",
              "    </tr>\n",
              "    <tr>\n",
              "      <th>4852605</th>\n",
              "      <td>1201457</td>\n",
              "      <td>5459417</td>\n",
              "      <td>1551010433000</td>\n",
              "      <td>5814.0</td>\n",
              "    </tr>\n",
              "    <tr>\n",
              "      <th>4852606</th>\n",
              "      <td>1201458</td>\n",
              "      <td>MBK13268567</td>\n",
              "      <td>1549415344000</td>\n",
              "      <td>6011.0</td>\n",
              "    </tr>\n",
              "    <tr>\n",
              "      <th>4852607</th>\n",
              "      <td>1201459</td>\n",
              "      <td>50396314</td>\n",
              "      <td>1551387178000</td>\n",
              "      <td>6010.0</td>\n",
              "    </tr>\n",
              "    <tr>\n",
              "      <th>4852608</th>\n",
              "      <td>1201460</td>\n",
              "      <td>41320573</td>\n",
              "      <td>1551100607000</td>\n",
              "      <td>6011.0</td>\n",
              "    </tr>\n",
              "    <tr>\n",
              "      <th>4852609</th>\n",
              "      <td>1201461</td>\n",
              "      <td>27496499</td>\n",
              "      <td>1549455962000</td>\n",
              "      <td>5499.0</td>\n",
              "    </tr>\n",
              "  </tbody>\n",
              "</table>\n",
              "<p>129636409 rows × 4 columns</p>\n",
              "</div>"
            ],
            "text/plain": [
              "         Unnamed: 0      user_id     event_time  atm_mcc\n",
              "0                 0     91970740  1550251213000   6011.0\n",
              "1                 1     43335883  1549910159000   5411.0\n",
              "2                 2   MBK5659333  1556169012000   6010.0\n",
              "3                 3     31705480  1550579547000   6010.0\n",
              "4                 4     18469968  1550582802000   5411.0\n",
              "...             ...          ...            ...      ...\n",
              "4852605     1201457      5459417  1551010433000   5814.0\n",
              "4852606     1201458  MBK13268567  1549415344000   6011.0\n",
              "4852607     1201459     50396314  1551387178000   6010.0\n",
              "4852608     1201460     41320573  1551100607000   6011.0\n",
              "4852609     1201461     27496499  1549455962000   5499.0\n",
              "\n",
              "[129636409 rows x 4 columns]"
            ]
          },
          "metadata": {
            "tags": []
          },
          "execution_count": 7
        }
      ]
    },
    {
      "cell_type": "code",
      "metadata": {
        "id": "JJDfyAweUrlH",
        "colab_type": "code",
        "colab": {}
      },
      "source": [
        "fr_mu, fr_std, gn_mu, gn_std = genue_fraud_mu_std(time_data, target_test)"
      ],
      "execution_count": 0,
      "outputs": []
    },
    {
      "cell_type": "markdown",
      "metadata": {
        "id": "abn8_5iiXWW0",
        "colab_type": "text"
      },
      "source": [
        "Посчитаем попадания в доверительные интервалы"
      ]
    },
    {
      "cell_type": "code",
      "metadata": {
        "id": "0UkPakI8O2BU",
        "colab_type": "code",
        "colab": {}
      },
      "source": [
        "from scipy.stats import vonmises_line\n",
        "\n",
        "vonmises_fr = vonmises_line(kappa = 1/fr_std, loc= fr_mu)\n",
        "interval_fr = vonmises_fr.interval(0.8)\n",
        "l_fr = interval_fr[0]\n",
        "r_fr = interval_fr[1]\n",
        "\n",
        "if l_fr>r_fr: l_fr, r_fr = r_fr, l_fr\n",
        "\n",
        "vonmises_gn = vonmises_line(kappa = 1/gn_std, loc= gn_mu)\n",
        "interval_gn = vonmises_gn.interval(0.8)\n",
        "l_gn = interval_gn[0]\n",
        "r_gn = interval_gn[1]\n",
        "\n",
        "if l_gn>r_gn: l_gn, r_gn = r_gn, l_gn"
      ],
      "execution_count": 0,
      "outputs": []
    },
    {
      "cell_type": "code",
      "metadata": {
        "id": "xhbj1lIVVk8q",
        "colab_type": "code",
        "colab": {}
      },
      "source": [
        "intervals_fr = time_data.groupby(\"user_id\").event_time.agg(lambda x: is_in_interval(l_fr, r_fr, x))\n",
        "\n",
        "intervals_gn = time_data.groupby(\"user_id\").event_time.agg(lambda x: is_in_interval(l_gn, r_gn, x))"
      ],
      "execution_count": 0,
      "outputs": []
    },
    {
      "cell_type": "code",
      "metadata": {
        "id": "6ewFfznnUMkP",
        "colab_type": "code",
        "colab": {}
      },
      "source": [
        "intervals = pd.concat([intervals_fr, intervals_gn], axis =1)\n",
        "intervals.columns = [\"fraud interval\", \"genue interval\"]"
      ],
      "execution_count": 0,
      "outputs": []
    },
    {
      "cell_type": "code",
      "metadata": {
        "id": "WBSiTNhMMaDc",
        "colab_type": "code",
        "outputId": "75ea62a4-79be-4839-fcbb-6fb04d1777a3",
        "colab": {
          "base_uri": "https://localhost:8080/",
          "height": 450
        }
      },
      "source": [
        "intervals"
      ],
      "execution_count": 0,
      "outputs": [
        {
          "output_type": "execute_result",
          "data": {
            "text/html": [
              "<div>\n",
              "<style scoped>\n",
              "    .dataframe tbody tr th:only-of-type {\n",
              "        vertical-align: middle;\n",
              "    }\n",
              "\n",
              "    .dataframe tbody tr th {\n",
              "        vertical-align: top;\n",
              "    }\n",
              "\n",
              "    .dataframe thead th {\n",
              "        text-align: right;\n",
              "    }\n",
              "</style>\n",
              "<table border=\"1\" class=\"dataframe\">\n",
              "  <thead>\n",
              "    <tr style=\"text-align: right;\">\n",
              "      <th></th>\n",
              "      <th>fraud interval</th>\n",
              "      <th>genue interval</th>\n",
              "    </tr>\n",
              "    <tr>\n",
              "      <th>user_id</th>\n",
              "      <th></th>\n",
              "      <th></th>\n",
              "    </tr>\n",
              "  </thead>\n",
              "  <tbody>\n",
              "    <tr>\n",
              "      <th>10000005</th>\n",
              "      <td>0.229391</td>\n",
              "      <td>0.265233</td>\n",
              "    </tr>\n",
              "    <tr>\n",
              "      <th>100000436</th>\n",
              "      <td>0.509434</td>\n",
              "      <td>0.594340</td>\n",
              "    </tr>\n",
              "    <tr>\n",
              "      <th>100000736</th>\n",
              "      <td>0.735409</td>\n",
              "      <td>0.797665</td>\n",
              "    </tr>\n",
              "    <tr>\n",
              "      <th>100000741</th>\n",
              "      <td>0.500000</td>\n",
              "      <td>1.000000</td>\n",
              "    </tr>\n",
              "    <tr>\n",
              "      <th>100000799</th>\n",
              "      <td>0.679012</td>\n",
              "      <td>0.734568</td>\n",
              "    </tr>\n",
              "    <tr>\n",
              "      <th>...</th>\n",
              "      <td>...</td>\n",
              "      <td>...</td>\n",
              "    </tr>\n",
              "    <tr>\n",
              "      <th>VSP9970837</th>\n",
              "      <td>1.000000</td>\n",
              "      <td>1.000000</td>\n",
              "    </tr>\n",
              "    <tr>\n",
              "      <th>VSP9970855</th>\n",
              "      <td>0.921053</td>\n",
              "      <td>0.885965</td>\n",
              "    </tr>\n",
              "    <tr>\n",
              "      <th>VSP9970871</th>\n",
              "      <td>0.920732</td>\n",
              "      <td>0.884146</td>\n",
              "    </tr>\n",
              "    <tr>\n",
              "      <th>VSP9984110</th>\n",
              "      <td>0.905556</td>\n",
              "      <td>0.961111</td>\n",
              "    </tr>\n",
              "    <tr>\n",
              "      <th>VSP9985663</th>\n",
              "      <td>0.911357</td>\n",
              "      <td>0.880886</td>\n",
              "    </tr>\n",
              "  </tbody>\n",
              "</table>\n",
              "<p>605851 rows × 2 columns</p>\n",
              "</div>"
            ],
            "text/plain": [
              "            fraud interval  genue interval\n",
              "user_id                                   \n",
              "10000005          0.229391        0.265233\n",
              "100000436         0.509434        0.594340\n",
              "100000736         0.735409        0.797665\n",
              "100000741         0.500000        1.000000\n",
              "100000799         0.679012        0.734568\n",
              "...                    ...             ...\n",
              "VSP9970837        1.000000        1.000000\n",
              "VSP9970855        0.921053        0.885965\n",
              "VSP9970871        0.920732        0.884146\n",
              "VSP9984110        0.905556        0.961111\n",
              "VSP9985663        0.911357        0.880886\n",
              "\n",
              "[605851 rows x 2 columns]"
            ]
          },
          "metadata": {
            "tags": []
          },
          "execution_count": 34
        }
      ]
    },
    {
      "cell_type": "code",
      "metadata": {
        "id": "8_bmhzIHXNmF",
        "colab_type": "code",
        "colab": {}
      },
      "source": [
        "intervals.to_csv(\"/content/drive/My Drive/antifraud/agg/intervals.csv\")"
      ],
      "execution_count": 0,
      "outputs": []
    },
    {
      "cell_type": "markdown",
      "metadata": {
        "id": "ruToxqhlhIaq",
        "colab_type": "text"
      },
      "source": [
        "Посчитаем какую часть переводов клиент делаем сам, а какую получает"
      ]
    },
    {
      "cell_type": "code",
      "metadata": {
        "id": "Zr8nlVRc28w1",
        "colab_type": "code",
        "colab": {}
      },
      "source": [
        " pd.concat([us_complited, rec_us_complited], axis =1)"
      ],
      "execution_count": 0,
      "outputs": []
    },
    {
      "cell_type": "code",
      "metadata": {
        "id": "LE8StTA9tK5X",
        "colab_type": "code",
        "colab": {}
      },
      "source": [
        "def new"
      ],
      "execution_count": 0,
      "outputs": []
    },
    {
      "cell_type": "code",
      "metadata": {
        "id": "CUbnBBgw7w58",
        "colab_type": "code",
        "colab": {}
      },
      "source": [
        "completed_trans = data_trans.groupby([\"user_id\", \"event_id\"])['amount_original'].agg(['sum','count'])\\\n",
        "    .groupby(level=0).cumsum()"
      ],
      "execution_count": 0,
      "outputs": []
    },
    {
      "cell_type": "code",
      "metadata": {
        "id": "BWe4GqlyCR4n",
        "colab_type": "code",
        "colab": {}
      },
      "source": [
        "get_trans = data_trans.groupby([\"user_id_rcvr\", \"event_id\"])['amount_original'].agg(['sum','count'])\\\n",
        "    .groupby(level=0).cumsum()"
      ],
      "execution_count": 0,
      "outputs": []
    },
    {
      "cell_type": "code",
      "metadata": {
        "id": "0o99KEpQCmDf",
        "colab_type": "code",
        "colab": {}
      },
      "source": [
        "completed_trans.index = [ j for i, j in completed_trans.index]"
      ],
      "execution_count": 0,
      "outputs": []
    },
    {
      "cell_type": "code",
      "metadata": {
        "id": "XmU_MhNmMbCC",
        "colab_type": "code",
        "colab": {}
      },
      "source": [
        "get_trans.index = [ j for i, j in get_trans.index]"
      ],
      "execution_count": 0,
      "outputs": []
    },
    {
      "cell_type": "code",
      "metadata": {
        "id": "1Fzs-6Bbf-Sd",
        "colab_type": "code",
        "colab": {}
      },
      "source": [
        "completed_trans = completed_trans.loc[get_trans.index]"
      ],
      "execution_count": 0,
      "outputs": []
    },
    {
      "cell_type": "code",
      "metadata": {
        "id": "YMrp--mgzDrf",
        "colab_type": "code",
        "colab": {}
      },
      "source": [
        "count = pd.concat([get_trans, completed_trans], axis =1)\n",
        "# count.columns = [\"get_tr\",\"get_amount\", \"completed_tr\", \"taked_amount\"]\n",
        "# count[\"ratio count\"] = count.apply(lambda x: x.completed_tr/(x.completed_tr+x.get_tr), axis = 1)\n",
        "# count[\"ratio amount\"] = count.apply(lambda x: x.taked_amount/(x.get_amount+x.taked_amount), axis = 1)"
      ],
      "execution_count": 0,
      "outputs": []
    },
    {
      "cell_type": "code",
      "metadata": {
        "id": "TfE41DOLzNaF",
        "colab_type": "code",
        "colab": {}
      },
      "source": [
        "count.to_csv(\"/content/drive/My Drive/antifraud/agg/count_features.csv\")"
      ],
      "execution_count": 0,
      "outputs": []
    },
    {
      "cell_type": "markdown",
      "metadata": {
        "id": "Tw4OMucazhFd",
        "colab_type": "text"
      },
      "source": [
        "person2vec"
      ]
    },
    {
      "cell_type": "code",
      "metadata": {
        "id": "a3-sr4Dw9606",
        "colab_type": "code",
        "outputId": "d67eb94e-de2f-48c7-a371-e42fce2cb607",
        "colab": {
          "base_uri": "https://localhost:8080/",
          "height": 375
        }
      },
      "source": [
        "%time doc_vec = person2vec(time_data)"
      ],
      "execution_count": 0,
      "outputs": [
        {
          "output_type": "error",
          "ename": "KeyboardInterrupt",
          "evalue": "ignored",
          "traceback": [
            "\u001b[0;31m---------------------------------------------------------------------------\u001b[0m",
            "\u001b[0;31mKeyboardInterrupt\u001b[0m                         Traceback (most recent call last)",
            "\u001b[0;32m<ipython-input-7-ecb2d294cfc4>\u001b[0m in \u001b[0;36m<module>\u001b[0;34m()\u001b[0m\n\u001b[0;32m----> 1\u001b[0;31m \u001b[0mget_ipython\u001b[0m\u001b[0;34m(\u001b[0m\u001b[0;34m)\u001b[0m\u001b[0;34m.\u001b[0m\u001b[0mmagic\u001b[0m\u001b[0;34m(\u001b[0m\u001b[0;34m'time doc_vec = person2vec(time_data)'\u001b[0m\u001b[0;34m)\u001b[0m\u001b[0;34m\u001b[0m\u001b[0;34m\u001b[0m\u001b[0m\n\u001b[0m",
            "\u001b[0;32m/usr/local/lib/python3.6/dist-packages/IPython/core/interactiveshell.py\u001b[0m in \u001b[0;36mmagic\u001b[0;34m(self, arg_s)\u001b[0m\n\u001b[1;32m   2158\u001b[0m         \u001b[0mmagic_name\u001b[0m\u001b[0;34m,\u001b[0m \u001b[0m_\u001b[0m\u001b[0;34m,\u001b[0m \u001b[0mmagic_arg_s\u001b[0m \u001b[0;34m=\u001b[0m \u001b[0marg_s\u001b[0m\u001b[0;34m.\u001b[0m\u001b[0mpartition\u001b[0m\u001b[0;34m(\u001b[0m\u001b[0;34m' '\u001b[0m\u001b[0;34m)\u001b[0m\u001b[0;34m\u001b[0m\u001b[0;34m\u001b[0m\u001b[0m\n\u001b[1;32m   2159\u001b[0m         \u001b[0mmagic_name\u001b[0m \u001b[0;34m=\u001b[0m \u001b[0mmagic_name\u001b[0m\u001b[0;34m.\u001b[0m\u001b[0mlstrip\u001b[0m\u001b[0;34m(\u001b[0m\u001b[0mprefilter\u001b[0m\u001b[0;34m.\u001b[0m\u001b[0mESC_MAGIC\u001b[0m\u001b[0;34m)\u001b[0m\u001b[0;34m\u001b[0m\u001b[0;34m\u001b[0m\u001b[0m\n\u001b[0;32m-> 2160\u001b[0;31m         \u001b[0;32mreturn\u001b[0m \u001b[0mself\u001b[0m\u001b[0;34m.\u001b[0m\u001b[0mrun_line_magic\u001b[0m\u001b[0;34m(\u001b[0m\u001b[0mmagic_name\u001b[0m\u001b[0;34m,\u001b[0m \u001b[0mmagic_arg_s\u001b[0m\u001b[0;34m)\u001b[0m\u001b[0;34m\u001b[0m\u001b[0;34m\u001b[0m\u001b[0m\n\u001b[0m\u001b[1;32m   2161\u001b[0m \u001b[0;34m\u001b[0m\u001b[0m\n\u001b[1;32m   2162\u001b[0m     \u001b[0;31m#-------------------------------------------------------------------------\u001b[0m\u001b[0;34m\u001b[0m\u001b[0;34m\u001b[0m\u001b[0;34m\u001b[0m\u001b[0m\n",
            "\u001b[0;32m/usr/local/lib/python3.6/dist-packages/IPython/core/interactiveshell.py\u001b[0m in \u001b[0;36mrun_line_magic\u001b[0;34m(self, magic_name, line)\u001b[0m\n\u001b[1;32m   2079\u001b[0m                 \u001b[0mkwargs\u001b[0m\u001b[0;34m[\u001b[0m\u001b[0;34m'local_ns'\u001b[0m\u001b[0;34m]\u001b[0m \u001b[0;34m=\u001b[0m \u001b[0msys\u001b[0m\u001b[0;34m.\u001b[0m\u001b[0m_getframe\u001b[0m\u001b[0;34m(\u001b[0m\u001b[0mstack_depth\u001b[0m\u001b[0;34m)\u001b[0m\u001b[0;34m.\u001b[0m\u001b[0mf_locals\u001b[0m\u001b[0;34m\u001b[0m\u001b[0;34m\u001b[0m\u001b[0m\n\u001b[1;32m   2080\u001b[0m             \u001b[0;32mwith\u001b[0m \u001b[0mself\u001b[0m\u001b[0;34m.\u001b[0m\u001b[0mbuiltin_trap\u001b[0m\u001b[0;34m:\u001b[0m\u001b[0;34m\u001b[0m\u001b[0;34m\u001b[0m\u001b[0m\n\u001b[0;32m-> 2081\u001b[0;31m                 \u001b[0mresult\u001b[0m \u001b[0;34m=\u001b[0m \u001b[0mfn\u001b[0m\u001b[0;34m(\u001b[0m\u001b[0;34m*\u001b[0m\u001b[0margs\u001b[0m\u001b[0;34m,\u001b[0m\u001b[0;34m**\u001b[0m\u001b[0mkwargs\u001b[0m\u001b[0;34m)\u001b[0m\u001b[0;34m\u001b[0m\u001b[0;34m\u001b[0m\u001b[0m\n\u001b[0m\u001b[1;32m   2082\u001b[0m             \u001b[0;32mreturn\u001b[0m \u001b[0mresult\u001b[0m\u001b[0;34m\u001b[0m\u001b[0;34m\u001b[0m\u001b[0m\n\u001b[1;32m   2083\u001b[0m \u001b[0;34m\u001b[0m\u001b[0m\n",
            "\u001b[0;32m<decorator-gen-60>\u001b[0m in \u001b[0;36mtime\u001b[0;34m(self, line, cell, local_ns)\u001b[0m\n",
            "\u001b[0;32m/usr/local/lib/python3.6/dist-packages/IPython/core/magic.py\u001b[0m in \u001b[0;36m<lambda>\u001b[0;34m(f, *a, **k)\u001b[0m\n\u001b[1;32m    186\u001b[0m     \u001b[0;31m# but it's overkill for just that one bit of state.\u001b[0m\u001b[0;34m\u001b[0m\u001b[0;34m\u001b[0m\u001b[0;34m\u001b[0m\u001b[0m\n\u001b[1;32m    187\u001b[0m     \u001b[0;32mdef\u001b[0m \u001b[0mmagic_deco\u001b[0m\u001b[0;34m(\u001b[0m\u001b[0marg\u001b[0m\u001b[0;34m)\u001b[0m\u001b[0;34m:\u001b[0m\u001b[0;34m\u001b[0m\u001b[0;34m\u001b[0m\u001b[0m\n\u001b[0;32m--> 188\u001b[0;31m         \u001b[0mcall\u001b[0m \u001b[0;34m=\u001b[0m \u001b[0;32mlambda\u001b[0m \u001b[0mf\u001b[0m\u001b[0;34m,\u001b[0m \u001b[0;34m*\u001b[0m\u001b[0ma\u001b[0m\u001b[0;34m,\u001b[0m \u001b[0;34m**\u001b[0m\u001b[0mk\u001b[0m\u001b[0;34m:\u001b[0m \u001b[0mf\u001b[0m\u001b[0;34m(\u001b[0m\u001b[0;34m*\u001b[0m\u001b[0ma\u001b[0m\u001b[0;34m,\u001b[0m \u001b[0;34m**\u001b[0m\u001b[0mk\u001b[0m\u001b[0;34m)\u001b[0m\u001b[0;34m\u001b[0m\u001b[0;34m\u001b[0m\u001b[0m\n\u001b[0m\u001b[1;32m    189\u001b[0m \u001b[0;34m\u001b[0m\u001b[0m\n\u001b[1;32m    190\u001b[0m         \u001b[0;32mif\u001b[0m \u001b[0mcallable\u001b[0m\u001b[0;34m(\u001b[0m\u001b[0marg\u001b[0m\u001b[0;34m)\u001b[0m\u001b[0;34m:\u001b[0m\u001b[0;34m\u001b[0m\u001b[0;34m\u001b[0m\u001b[0m\n",
            "\u001b[0;32m/usr/local/lib/python3.6/dist-packages/IPython/core/magics/execution.py\u001b[0m in \u001b[0;36mtime\u001b[0;34m(self, line, cell, local_ns)\u001b[0m\n\u001b[1;32m   1191\u001b[0m         \u001b[0;32melse\u001b[0m\u001b[0;34m:\u001b[0m\u001b[0;34m\u001b[0m\u001b[0;34m\u001b[0m\u001b[0m\n\u001b[1;32m   1192\u001b[0m             \u001b[0mst\u001b[0m \u001b[0;34m=\u001b[0m \u001b[0mclock2\u001b[0m\u001b[0;34m(\u001b[0m\u001b[0;34m)\u001b[0m\u001b[0;34m\u001b[0m\u001b[0;34m\u001b[0m\u001b[0m\n\u001b[0;32m-> 1193\u001b[0;31m             \u001b[0mexec\u001b[0m\u001b[0;34m(\u001b[0m\u001b[0mcode\u001b[0m\u001b[0;34m,\u001b[0m \u001b[0mglob\u001b[0m\u001b[0;34m,\u001b[0m \u001b[0mlocal_ns\u001b[0m\u001b[0;34m)\u001b[0m\u001b[0;34m\u001b[0m\u001b[0;34m\u001b[0m\u001b[0m\n\u001b[0m\u001b[1;32m   1194\u001b[0m             \u001b[0mend\u001b[0m \u001b[0;34m=\u001b[0m \u001b[0mclock2\u001b[0m\u001b[0;34m(\u001b[0m\u001b[0;34m)\u001b[0m\u001b[0;34m\u001b[0m\u001b[0;34m\u001b[0m\u001b[0m\n\u001b[1;32m   1195\u001b[0m             \u001b[0mout\u001b[0m \u001b[0;34m=\u001b[0m \u001b[0;32mNone\u001b[0m\u001b[0;34m\u001b[0m\u001b[0;34m\u001b[0m\u001b[0m\n",
            "\u001b[0;32m<timed exec>\u001b[0m in \u001b[0;36m<module>\u001b[0;34m()\u001b[0m\n",
            "\u001b[0;32m/content/mcc2vec.py\u001b[0m in \u001b[0;36mperson2vec\u001b[0;34m(tr_history)\u001b[0m\n\u001b[1;32m     42\u001b[0m \u001b[0;34m\u001b[0m\u001b[0m\n\u001b[1;32m     43\u001b[0m     \u001b[0mdocuments\u001b[0m \u001b[0;34m=\u001b[0m \u001b[0;34m[\u001b[0m\u001b[0mTaggedDocument\u001b[0m\u001b[0;34m(\u001b[0m\u001b[0mdoc\u001b[0m\u001b[0;34m,\u001b[0m \u001b[0;34m[\u001b[0m\u001b[0mi\u001b[0m\u001b[0;34m]\u001b[0m\u001b[0;34m)\u001b[0m \u001b[0;32mfor\u001b[0m \u001b[0mi\u001b[0m\u001b[0;34m,\u001b[0m \u001b[0mdoc\u001b[0m \u001b[0;32min\u001b[0m \u001b[0mtag_doc\u001b[0m\u001b[0;34m]\u001b[0m\u001b[0;34m\u001b[0m\u001b[0;34m\u001b[0m\u001b[0m\n\u001b[0;32m---> 44\u001b[0;31m     \u001b[0mmodel\u001b[0m \u001b[0;34m=\u001b[0m \u001b[0mDoc2Vec\u001b[0m\u001b[0;34m(\u001b[0m\u001b[0mdocuments\u001b[0m\u001b[0;34m,\u001b[0m \u001b[0mvector_size\u001b[0m\u001b[0;34m=\u001b[0m\u001b[0;36m50\u001b[0m\u001b[0;34m,\u001b[0m \u001b[0mwindow\u001b[0m\u001b[0;34m=\u001b[0m\u001b[0;36m5\u001b[0m\u001b[0;34m,\u001b[0m \u001b[0mmin_count\u001b[0m\u001b[0;34m=\u001b[0m\u001b[0;36m1\u001b[0m\u001b[0;34m,\u001b[0m \u001b[0mworkers\u001b[0m\u001b[0;34m=\u001b[0m\u001b[0;36m4\u001b[0m\u001b[0;34m,\u001b[0m \u001b[0mepochs\u001b[0m \u001b[0;34m=\u001b[0m \u001b[0;36m10\u001b[0m\u001b[0;34m)\u001b[0m\u001b[0;34m\u001b[0m\u001b[0;34m\u001b[0m\u001b[0m\n\u001b[0m\u001b[1;32m     45\u001b[0m \u001b[0;34m\u001b[0m\u001b[0m\n\u001b[1;32m     46\u001b[0m     \u001b[0musrs\u001b[0m \u001b[0;34m=\u001b[0m \u001b[0;34m[\u001b[0m\u001b[0mdoc\u001b[0m\u001b[0;34m[\u001b[0m\u001b[0;36m0\u001b[0m\u001b[0;34m]\u001b[0m \u001b[0;32mfor\u001b[0m \u001b[0mdoc\u001b[0m \u001b[0;32min\u001b[0m \u001b[0mtag_doc\u001b[0m\u001b[0;34m]\u001b[0m\u001b[0;34m\u001b[0m\u001b[0;34m\u001b[0m\u001b[0m\n",
            "\u001b[0;32m/usr/local/lib/python3.6/dist-packages/gensim/models/doc2vec.py\u001b[0m in \u001b[0;36m__init__\u001b[0;34m(self, documents, corpus_file, dm_mean, dm, dbow_words, dm_concat, dm_tag_count, docvecs, docvecs_mapfile, comment, trim_rule, callbacks, **kwargs)\u001b[0m\n\u001b[1;32m    613\u001b[0m                 \u001b[0mdocuments\u001b[0m\u001b[0;34m=\u001b[0m\u001b[0mdocuments\u001b[0m\u001b[0;34m,\u001b[0m \u001b[0mcorpus_file\u001b[0m\u001b[0;34m=\u001b[0m\u001b[0mcorpus_file\u001b[0m\u001b[0;34m,\u001b[0m \u001b[0mtotal_examples\u001b[0m\u001b[0;34m=\u001b[0m\u001b[0mself\u001b[0m\u001b[0;34m.\u001b[0m\u001b[0mcorpus_count\u001b[0m\u001b[0;34m,\u001b[0m\u001b[0;34m\u001b[0m\u001b[0;34m\u001b[0m\u001b[0m\n\u001b[1;32m    614\u001b[0m                 \u001b[0mtotal_words\u001b[0m\u001b[0;34m=\u001b[0m\u001b[0mself\u001b[0m\u001b[0;34m.\u001b[0m\u001b[0mcorpus_total_words\u001b[0m\u001b[0;34m,\u001b[0m \u001b[0mepochs\u001b[0m\u001b[0;34m=\u001b[0m\u001b[0mself\u001b[0m\u001b[0;34m.\u001b[0m\u001b[0mepochs\u001b[0m\u001b[0;34m,\u001b[0m \u001b[0mstart_alpha\u001b[0m\u001b[0;34m=\u001b[0m\u001b[0mself\u001b[0m\u001b[0;34m.\u001b[0m\u001b[0malpha\u001b[0m\u001b[0;34m,\u001b[0m\u001b[0;34m\u001b[0m\u001b[0;34m\u001b[0m\u001b[0m\n\u001b[0;32m--> 615\u001b[0;31m                 end_alpha=self.min_alpha, callbacks=callbacks)\n\u001b[0m\u001b[1;32m    616\u001b[0m \u001b[0;34m\u001b[0m\u001b[0m\n\u001b[1;32m    617\u001b[0m     \u001b[0;34m@\u001b[0m\u001b[0mproperty\u001b[0m\u001b[0;34m\u001b[0m\u001b[0;34m\u001b[0m\u001b[0m\n",
            "\u001b[0;32m/usr/local/lib/python3.6/dist-packages/gensim/models/doc2vec.py\u001b[0m in \u001b[0;36mtrain\u001b[0;34m(self, documents, corpus_file, total_examples, total_words, epochs, start_alpha, end_alpha, word_count, queue_factor, report_delay, callbacks)\u001b[0m\n\u001b[1;32m    793\u001b[0m             \u001b[0msentences\u001b[0m\u001b[0;34m=\u001b[0m\u001b[0mdocuments\u001b[0m\u001b[0;34m,\u001b[0m \u001b[0mcorpus_file\u001b[0m\u001b[0;34m=\u001b[0m\u001b[0mcorpus_file\u001b[0m\u001b[0;34m,\u001b[0m \u001b[0mtotal_examples\u001b[0m\u001b[0;34m=\u001b[0m\u001b[0mtotal_examples\u001b[0m\u001b[0;34m,\u001b[0m \u001b[0mtotal_words\u001b[0m\u001b[0;34m=\u001b[0m\u001b[0mtotal_words\u001b[0m\u001b[0;34m,\u001b[0m\u001b[0;34m\u001b[0m\u001b[0;34m\u001b[0m\u001b[0m\n\u001b[1;32m    794\u001b[0m             \u001b[0mepochs\u001b[0m\u001b[0;34m=\u001b[0m\u001b[0mepochs\u001b[0m\u001b[0;34m,\u001b[0m \u001b[0mstart_alpha\u001b[0m\u001b[0;34m=\u001b[0m\u001b[0mstart_alpha\u001b[0m\u001b[0;34m,\u001b[0m \u001b[0mend_alpha\u001b[0m\u001b[0;34m=\u001b[0m\u001b[0mend_alpha\u001b[0m\u001b[0;34m,\u001b[0m \u001b[0mword_count\u001b[0m\u001b[0;34m=\u001b[0m\u001b[0mword_count\u001b[0m\u001b[0;34m,\u001b[0m\u001b[0;34m\u001b[0m\u001b[0;34m\u001b[0m\u001b[0m\n\u001b[0;32m--> 795\u001b[0;31m             queue_factor=queue_factor, report_delay=report_delay, callbacks=callbacks, **kwargs)\n\u001b[0m\u001b[1;32m    796\u001b[0m \u001b[0;34m\u001b[0m\u001b[0m\n\u001b[1;32m    797\u001b[0m     \u001b[0;34m@\u001b[0m\u001b[0mclassmethod\u001b[0m\u001b[0;34m\u001b[0m\u001b[0;34m\u001b[0m\u001b[0m\n",
            "\u001b[0;32m/usr/local/lib/python3.6/dist-packages/gensim/models/base_any2vec.py\u001b[0m in \u001b[0;36mtrain\u001b[0;34m(self, sentences, corpus_file, total_examples, total_words, epochs, start_alpha, end_alpha, word_count, queue_factor, report_delay, compute_loss, callbacks, **kwargs)\u001b[0m\n\u001b[1;32m   1079\u001b[0m             \u001b[0mtotal_words\u001b[0m\u001b[0;34m=\u001b[0m\u001b[0mtotal_words\u001b[0m\u001b[0;34m,\u001b[0m \u001b[0mepochs\u001b[0m\u001b[0;34m=\u001b[0m\u001b[0mepochs\u001b[0m\u001b[0;34m,\u001b[0m \u001b[0mstart_alpha\u001b[0m\u001b[0;34m=\u001b[0m\u001b[0mstart_alpha\u001b[0m\u001b[0;34m,\u001b[0m \u001b[0mend_alpha\u001b[0m\u001b[0;34m=\u001b[0m\u001b[0mend_alpha\u001b[0m\u001b[0;34m,\u001b[0m \u001b[0mword_count\u001b[0m\u001b[0;34m=\u001b[0m\u001b[0mword_count\u001b[0m\u001b[0;34m,\u001b[0m\u001b[0;34m\u001b[0m\u001b[0;34m\u001b[0m\u001b[0m\n\u001b[1;32m   1080\u001b[0m             \u001b[0mqueue_factor\u001b[0m\u001b[0;34m=\u001b[0m\u001b[0mqueue_factor\u001b[0m\u001b[0;34m,\u001b[0m \u001b[0mreport_delay\u001b[0m\u001b[0;34m=\u001b[0m\u001b[0mreport_delay\u001b[0m\u001b[0;34m,\u001b[0m \u001b[0mcompute_loss\u001b[0m\u001b[0;34m=\u001b[0m\u001b[0mcompute_loss\u001b[0m\u001b[0;34m,\u001b[0m \u001b[0mcallbacks\u001b[0m\u001b[0;34m=\u001b[0m\u001b[0mcallbacks\u001b[0m\u001b[0;34m,\u001b[0m\u001b[0;34m\u001b[0m\u001b[0;34m\u001b[0m\u001b[0m\n\u001b[0;32m-> 1081\u001b[0;31m             **kwargs)\n\u001b[0m\u001b[1;32m   1082\u001b[0m \u001b[0;34m\u001b[0m\u001b[0m\n\u001b[1;32m   1083\u001b[0m     \u001b[0;32mdef\u001b[0m \u001b[0m_get_job_params\u001b[0m\u001b[0;34m(\u001b[0m\u001b[0mself\u001b[0m\u001b[0;34m,\u001b[0m \u001b[0mcur_epoch\u001b[0m\u001b[0;34m)\u001b[0m\u001b[0;34m:\u001b[0m\u001b[0;34m\u001b[0m\u001b[0;34m\u001b[0m\u001b[0m\n",
            "\u001b[0;32m/usr/local/lib/python3.6/dist-packages/gensim/models/base_any2vec.py\u001b[0m in \u001b[0;36mtrain\u001b[0;34m(self, data_iterable, corpus_file, epochs, total_examples, total_words, queue_factor, report_delay, callbacks, **kwargs)\u001b[0m\n\u001b[1;32m    551\u001b[0m                 trained_word_count_epoch, raw_word_count_epoch, job_tally_epoch = self._train_epoch(\n\u001b[1;32m    552\u001b[0m                     \u001b[0mdata_iterable\u001b[0m\u001b[0;34m,\u001b[0m \u001b[0mcur_epoch\u001b[0m\u001b[0;34m=\u001b[0m\u001b[0mcur_epoch\u001b[0m\u001b[0;34m,\u001b[0m \u001b[0mtotal_examples\u001b[0m\u001b[0;34m=\u001b[0m\u001b[0mtotal_examples\u001b[0m\u001b[0;34m,\u001b[0m\u001b[0;34m\u001b[0m\u001b[0;34m\u001b[0m\u001b[0m\n\u001b[0;32m--> 553\u001b[0;31m                     total_words=total_words, queue_factor=queue_factor, report_delay=report_delay)\n\u001b[0m\u001b[1;32m    554\u001b[0m             \u001b[0;32melse\u001b[0m\u001b[0;34m:\u001b[0m\u001b[0;34m\u001b[0m\u001b[0;34m\u001b[0m\u001b[0m\n\u001b[1;32m    555\u001b[0m                 trained_word_count_epoch, raw_word_count_epoch, job_tally_epoch = self._train_epoch_corpusfile(\n",
            "\u001b[0;32m/usr/local/lib/python3.6/dist-packages/gensim/models/base_any2vec.py\u001b[0m in \u001b[0;36m_train_epoch\u001b[0;34m(self, data_iterable, cur_epoch, total_examples, total_words, queue_factor, report_delay)\u001b[0m\n\u001b[1;32m    487\u001b[0m         trained_word_count, raw_word_count, job_tally = self._log_epoch_progress(\n\u001b[1;32m    488\u001b[0m             \u001b[0mprogress_queue\u001b[0m\u001b[0;34m,\u001b[0m \u001b[0mjob_queue\u001b[0m\u001b[0;34m,\u001b[0m \u001b[0mcur_epoch\u001b[0m\u001b[0;34m=\u001b[0m\u001b[0mcur_epoch\u001b[0m\u001b[0;34m,\u001b[0m \u001b[0mtotal_examples\u001b[0m\u001b[0;34m=\u001b[0m\u001b[0mtotal_examples\u001b[0m\u001b[0;34m,\u001b[0m \u001b[0mtotal_words\u001b[0m\u001b[0;34m=\u001b[0m\u001b[0mtotal_words\u001b[0m\u001b[0;34m,\u001b[0m\u001b[0;34m\u001b[0m\u001b[0;34m\u001b[0m\u001b[0m\n\u001b[0;32m--> 489\u001b[0;31m             report_delay=report_delay, is_corpus_file_mode=False)\n\u001b[0m\u001b[1;32m    490\u001b[0m \u001b[0;34m\u001b[0m\u001b[0m\n\u001b[1;32m    491\u001b[0m         \u001b[0;32mreturn\u001b[0m \u001b[0mtrained_word_count\u001b[0m\u001b[0;34m,\u001b[0m \u001b[0mraw_word_count\u001b[0m\u001b[0;34m,\u001b[0m \u001b[0mjob_tally\u001b[0m\u001b[0;34m\u001b[0m\u001b[0;34m\u001b[0m\u001b[0m\n",
            "\u001b[0;32m/usr/local/lib/python3.6/dist-packages/gensim/models/base_any2vec.py\u001b[0m in \u001b[0;36m_log_epoch_progress\u001b[0;34m(self, progress_queue, job_queue, cur_epoch, total_examples, total_words, report_delay, is_corpus_file_mode)\u001b[0m\n\u001b[1;32m    344\u001b[0m \u001b[0;34m\u001b[0m\u001b[0m\n\u001b[1;32m    345\u001b[0m         \u001b[0;32mwhile\u001b[0m \u001b[0munfinished_worker_count\u001b[0m \u001b[0;34m>\u001b[0m \u001b[0;36m0\u001b[0m\u001b[0;34m:\u001b[0m\u001b[0;34m\u001b[0m\u001b[0;34m\u001b[0m\u001b[0m\n\u001b[0;32m--> 346\u001b[0;31m             \u001b[0mreport\u001b[0m \u001b[0;34m=\u001b[0m \u001b[0mprogress_queue\u001b[0m\u001b[0;34m.\u001b[0m\u001b[0mget\u001b[0m\u001b[0;34m(\u001b[0m\u001b[0;34m)\u001b[0m  \u001b[0;31m# blocks if workers too slow\u001b[0m\u001b[0;34m\u001b[0m\u001b[0;34m\u001b[0m\u001b[0m\n\u001b[0m\u001b[1;32m    347\u001b[0m             \u001b[0;32mif\u001b[0m \u001b[0mreport\u001b[0m \u001b[0;32mis\u001b[0m \u001b[0;32mNone\u001b[0m\u001b[0;34m:\u001b[0m  \u001b[0;31m# a thread reporting that it finished\u001b[0m\u001b[0;34m\u001b[0m\u001b[0;34m\u001b[0m\u001b[0m\n\u001b[1;32m    348\u001b[0m                 \u001b[0munfinished_worker_count\u001b[0m \u001b[0;34m-=\u001b[0m \u001b[0;36m1\u001b[0m\u001b[0;34m\u001b[0m\u001b[0;34m\u001b[0m\u001b[0m\n",
            "\u001b[0;32m/usr/lib/python3.6/queue.py\u001b[0m in \u001b[0;36mget\u001b[0;34m(self, block, timeout)\u001b[0m\n\u001b[1;32m    162\u001b[0m             \u001b[0;32melif\u001b[0m \u001b[0mtimeout\u001b[0m \u001b[0;32mis\u001b[0m \u001b[0;32mNone\u001b[0m\u001b[0;34m:\u001b[0m\u001b[0;34m\u001b[0m\u001b[0;34m\u001b[0m\u001b[0m\n\u001b[1;32m    163\u001b[0m                 \u001b[0;32mwhile\u001b[0m \u001b[0;32mnot\u001b[0m \u001b[0mself\u001b[0m\u001b[0;34m.\u001b[0m\u001b[0m_qsize\u001b[0m\u001b[0;34m(\u001b[0m\u001b[0;34m)\u001b[0m\u001b[0;34m:\u001b[0m\u001b[0;34m\u001b[0m\u001b[0;34m\u001b[0m\u001b[0m\n\u001b[0;32m--> 164\u001b[0;31m                     \u001b[0mself\u001b[0m\u001b[0;34m.\u001b[0m\u001b[0mnot_empty\u001b[0m\u001b[0;34m.\u001b[0m\u001b[0mwait\u001b[0m\u001b[0;34m(\u001b[0m\u001b[0;34m)\u001b[0m\u001b[0;34m\u001b[0m\u001b[0;34m\u001b[0m\u001b[0m\n\u001b[0m\u001b[1;32m    165\u001b[0m             \u001b[0;32melif\u001b[0m \u001b[0mtimeout\u001b[0m \u001b[0;34m<\u001b[0m \u001b[0;36m0\u001b[0m\u001b[0;34m:\u001b[0m\u001b[0;34m\u001b[0m\u001b[0;34m\u001b[0m\u001b[0m\n\u001b[1;32m    166\u001b[0m                 \u001b[0;32mraise\u001b[0m \u001b[0mValueError\u001b[0m\u001b[0;34m(\u001b[0m\u001b[0;34m\"'timeout' must be a non-negative number\"\u001b[0m\u001b[0;34m)\u001b[0m\u001b[0;34m\u001b[0m\u001b[0;34m\u001b[0m\u001b[0m\n",
            "\u001b[0;32m/usr/lib/python3.6/threading.py\u001b[0m in \u001b[0;36mwait\u001b[0;34m(self, timeout)\u001b[0m\n\u001b[1;32m    293\u001b[0m         \u001b[0;32mtry\u001b[0m\u001b[0;34m:\u001b[0m    \u001b[0;31m# restore state no matter what (e.g., KeyboardInterrupt)\u001b[0m\u001b[0;34m\u001b[0m\u001b[0;34m\u001b[0m\u001b[0m\n\u001b[1;32m    294\u001b[0m             \u001b[0;32mif\u001b[0m \u001b[0mtimeout\u001b[0m \u001b[0;32mis\u001b[0m \u001b[0;32mNone\u001b[0m\u001b[0;34m:\u001b[0m\u001b[0;34m\u001b[0m\u001b[0;34m\u001b[0m\u001b[0m\n\u001b[0;32m--> 295\u001b[0;31m                 \u001b[0mwaiter\u001b[0m\u001b[0;34m.\u001b[0m\u001b[0macquire\u001b[0m\u001b[0;34m(\u001b[0m\u001b[0;34m)\u001b[0m\u001b[0;34m\u001b[0m\u001b[0;34m\u001b[0m\u001b[0m\n\u001b[0m\u001b[1;32m    296\u001b[0m                 \u001b[0mgotit\u001b[0m \u001b[0;34m=\u001b[0m \u001b[0;32mTrue\u001b[0m\u001b[0;34m\u001b[0m\u001b[0;34m\u001b[0m\u001b[0m\n\u001b[1;32m    297\u001b[0m             \u001b[0;32melse\u001b[0m\u001b[0;34m:\u001b[0m\u001b[0;34m\u001b[0m\u001b[0;34m\u001b[0m\u001b[0m\n",
            "\u001b[0;31mKeyboardInterrupt\u001b[0m: "
          ]
        }
      ]
    },
    {
      "cell_type": "code",
      "metadata": {
        "id": "5LQ3VQS5hYGy",
        "colab_type": "code",
        "outputId": "d0fedbea-74d4-46af-b86b-0b14b370aa61",
        "colab": {
          "base_uri": "https://localhost:8080/",
          "height": 51
        }
      },
      "source": [
        "%time model = Doc2Vec(documents, vector_size=50, window=5, min_count=1, workers=4)"
      ],
      "execution_count": 0,
      "outputs": [
        {
          "output_type": "stream",
          "text": [
            "CPU times: user 3h 46min 58s, sys: 1h 35min 4s, total: 5h 22min 3s\n",
            "Wall time: 3h 37min 5s\n"
          ],
          "name": "stdout"
        }
      ]
    },
    {
      "cell_type": "code",
      "metadata": {
        "id": "IAlQAyyM3HS1",
        "colab_type": "code",
        "outputId": "d4b8ba20-b3b6-4595-b4ef-0f338d96b3e9",
        "colab": {
          "base_uri": "https://localhost:8080/",
          "height": 71
        }
      },
      "source": [
        "doc_vec = pd.read_csv(\"/content/drive/My Drive/antifraud/agg/mcc_features.csv\")"
      ],
      "execution_count": 0,
      "outputs": [
        {
          "output_type": "stream",
          "text": [
            "/usr/local/lib/python3.6/dist-packages/IPython/core/interactiveshell.py:2718: DtypeWarning: Columns (0) have mixed types.Specify dtype option on import or set low_memory=False.\n",
            "  interactivity=interactivity, compiler=compiler, result=result)\n"
          ],
          "name": "stderr"
        }
      ]
    },
    {
      "cell_type": "code",
      "metadata": {
        "id": "fAn0rJnB3Xmj",
        "colab_type": "code",
        "colab": {}
      },
      "source": [
        "doc_vec.set_index(\"Unnamed: 0\", inplace = True)"
      ],
      "execution_count": 0,
      "outputs": []
    },
    {
      "cell_type": "code",
      "metadata": {
        "id": "H7tLQs6z3PMQ",
        "colab_type": "code",
        "outputId": "ac53cfef-7813-493c-dbe8-9c86161de5ac",
        "colab": {
          "base_uri": "https://localhost:8080/",
          "height": 272
        }
      },
      "source": [
        "doc_vec.head()"
      ],
      "execution_count": 0,
      "outputs": [
        {
          "output_type": "execute_result",
          "data": {
            "text/html": [
              "<div>\n",
              "<style scoped>\n",
              "    .dataframe tbody tr th:only-of-type {\n",
              "        vertical-align: middle;\n",
              "    }\n",
              "\n",
              "    .dataframe tbody tr th {\n",
              "        vertical-align: top;\n",
              "    }\n",
              "\n",
              "    .dataframe thead th {\n",
              "        text-align: right;\n",
              "    }\n",
              "</style>\n",
              "<table border=\"1\" class=\"dataframe\">\n",
              "  <thead>\n",
              "    <tr style=\"text-align: right;\">\n",
              "      <th></th>\n",
              "      <th>0</th>\n",
              "      <th>1</th>\n",
              "      <th>2</th>\n",
              "      <th>3</th>\n",
              "      <th>4</th>\n",
              "      <th>5</th>\n",
              "      <th>6</th>\n",
              "      <th>7</th>\n",
              "      <th>8</th>\n",
              "      <th>9</th>\n",
              "      <th>10</th>\n",
              "      <th>11</th>\n",
              "      <th>12</th>\n",
              "      <th>13</th>\n",
              "      <th>14</th>\n",
              "      <th>15</th>\n",
              "      <th>16</th>\n",
              "      <th>17</th>\n",
              "      <th>18</th>\n",
              "      <th>19</th>\n",
              "      <th>20</th>\n",
              "      <th>21</th>\n",
              "      <th>22</th>\n",
              "      <th>23</th>\n",
              "      <th>24</th>\n",
              "      <th>25</th>\n",
              "      <th>26</th>\n",
              "      <th>27</th>\n",
              "      <th>28</th>\n",
              "      <th>29</th>\n",
              "      <th>30</th>\n",
              "      <th>31</th>\n",
              "      <th>32</th>\n",
              "      <th>33</th>\n",
              "      <th>34</th>\n",
              "      <th>35</th>\n",
              "      <th>36</th>\n",
              "      <th>37</th>\n",
              "      <th>38</th>\n",
              "      <th>39</th>\n",
              "      <th>40</th>\n",
              "      <th>41</th>\n",
              "      <th>42</th>\n",
              "      <th>43</th>\n",
              "      <th>44</th>\n",
              "      <th>45</th>\n",
              "      <th>46</th>\n",
              "      <th>47</th>\n",
              "      <th>48</th>\n",
              "      <th>49</th>\n",
              "    </tr>\n",
              "    <tr>\n",
              "      <th>Unnamed: 0</th>\n",
              "      <th></th>\n",
              "      <th></th>\n",
              "      <th></th>\n",
              "      <th></th>\n",
              "      <th></th>\n",
              "      <th></th>\n",
              "      <th></th>\n",
              "      <th></th>\n",
              "      <th></th>\n",
              "      <th></th>\n",
              "      <th></th>\n",
              "      <th></th>\n",
              "      <th></th>\n",
              "      <th></th>\n",
              "      <th></th>\n",
              "      <th></th>\n",
              "      <th></th>\n",
              "      <th></th>\n",
              "      <th></th>\n",
              "      <th></th>\n",
              "      <th></th>\n",
              "      <th></th>\n",
              "      <th></th>\n",
              "      <th></th>\n",
              "      <th></th>\n",
              "      <th></th>\n",
              "      <th></th>\n",
              "      <th></th>\n",
              "      <th></th>\n",
              "      <th></th>\n",
              "      <th></th>\n",
              "      <th></th>\n",
              "      <th></th>\n",
              "      <th></th>\n",
              "      <th></th>\n",
              "      <th></th>\n",
              "      <th></th>\n",
              "      <th></th>\n",
              "      <th></th>\n",
              "      <th></th>\n",
              "      <th></th>\n",
              "      <th></th>\n",
              "      <th></th>\n",
              "      <th></th>\n",
              "      <th></th>\n",
              "      <th></th>\n",
              "      <th></th>\n",
              "      <th></th>\n",
              "      <th></th>\n",
              "      <th></th>\n",
              "    </tr>\n",
              "  </thead>\n",
              "  <tbody>\n",
              "    <tr>\n",
              "      <th>10000005</th>\n",
              "      <td>0.094212</td>\n",
              "      <td>0.074970</td>\n",
              "      <td>-0.092342</td>\n",
              "      <td>-0.033854</td>\n",
              "      <td>0.190133</td>\n",
              "      <td>0.173116</td>\n",
              "      <td>-0.252787</td>\n",
              "      <td>-0.341665</td>\n",
              "      <td>0.121836</td>\n",
              "      <td>0.206761</td>\n",
              "      <td>0.279306</td>\n",
              "      <td>-0.200487</td>\n",
              "      <td>-0.238467</td>\n",
              "      <td>0.223217</td>\n",
              "      <td>-0.021972</td>\n",
              "      <td>-0.202111</td>\n",
              "      <td>0.023558</td>\n",
              "      <td>0.032956</td>\n",
              "      <td>0.093282</td>\n",
              "      <td>0.013845</td>\n",
              "      <td>0.084736</td>\n",
              "      <td>0.083099</td>\n",
              "      <td>-0.159306</td>\n",
              "      <td>0.193964</td>\n",
              "      <td>-0.234162</td>\n",
              "      <td>0.092363</td>\n",
              "      <td>-0.365877</td>\n",
              "      <td>-0.207402</td>\n",
              "      <td>-0.049479</td>\n",
              "      <td>0.265875</td>\n",
              "      <td>0.191899</td>\n",
              "      <td>0.128123</td>\n",
              "      <td>0.173036</td>\n",
              "      <td>0.162564</td>\n",
              "      <td>0.142748</td>\n",
              "      <td>0.145887</td>\n",
              "      <td>0.129075</td>\n",
              "      <td>-0.326082</td>\n",
              "      <td>0.442629</td>\n",
              "      <td>-0.203147</td>\n",
              "      <td>-0.154402</td>\n",
              "      <td>-0.097558</td>\n",
              "      <td>-0.098955</td>\n",
              "      <td>-0.078201</td>\n",
              "      <td>-0.487449</td>\n",
              "      <td>-0.120499</td>\n",
              "      <td>0.263025</td>\n",
              "      <td>-0.097580</td>\n",
              "      <td>0.196277</td>\n",
              "      <td>-0.162907</td>\n",
              "    </tr>\n",
              "    <tr>\n",
              "      <th>100000436</th>\n",
              "      <td>-0.056289</td>\n",
              "      <td>-0.333261</td>\n",
              "      <td>0.043189</td>\n",
              "      <td>-0.114053</td>\n",
              "      <td>-0.148746</td>\n",
              "      <td>-0.018828</td>\n",
              "      <td>-0.035371</td>\n",
              "      <td>-0.309817</td>\n",
              "      <td>-0.182100</td>\n",
              "      <td>0.298278</td>\n",
              "      <td>0.109506</td>\n",
              "      <td>-0.029757</td>\n",
              "      <td>-0.037162</td>\n",
              "      <td>0.059918</td>\n",
              "      <td>-0.003830</td>\n",
              "      <td>-0.172359</td>\n",
              "      <td>0.029350</td>\n",
              "      <td>-0.038322</td>\n",
              "      <td>-0.033434</td>\n",
              "      <td>0.156084</td>\n",
              "      <td>-0.260857</td>\n",
              "      <td>0.078180</td>\n",
              "      <td>0.090832</td>\n",
              "      <td>-0.170872</td>\n",
              "      <td>-0.386493</td>\n",
              "      <td>0.392571</td>\n",
              "      <td>-0.111736</td>\n",
              "      <td>-0.035162</td>\n",
              "      <td>-0.174733</td>\n",
              "      <td>0.438784</td>\n",
              "      <td>0.216640</td>\n",
              "      <td>-0.010822</td>\n",
              "      <td>-0.154158</td>\n",
              "      <td>0.056118</td>\n",
              "      <td>0.083555</td>\n",
              "      <td>0.067532</td>\n",
              "      <td>0.199724</td>\n",
              "      <td>-0.097065</td>\n",
              "      <td>0.314107</td>\n",
              "      <td>-0.084748</td>\n",
              "      <td>-0.202675</td>\n",
              "      <td>0.066174</td>\n",
              "      <td>-0.063516</td>\n",
              "      <td>-0.141115</td>\n",
              "      <td>-0.254740</td>\n",
              "      <td>0.081565</td>\n",
              "      <td>0.261625</td>\n",
              "      <td>0.066766</td>\n",
              "      <td>-0.145219</td>\n",
              "      <td>-0.063180</td>\n",
              "    </tr>\n",
              "    <tr>\n",
              "      <th>100000736</th>\n",
              "      <td>-0.077203</td>\n",
              "      <td>-0.119751</td>\n",
              "      <td>-0.104929</td>\n",
              "      <td>-0.167173</td>\n",
              "      <td>-0.150799</td>\n",
              "      <td>0.118442</td>\n",
              "      <td>-0.139098</td>\n",
              "      <td>0.062963</td>\n",
              "      <td>-0.213130</td>\n",
              "      <td>0.043742</td>\n",
              "      <td>0.071224</td>\n",
              "      <td>-0.510502</td>\n",
              "      <td>-0.243186</td>\n",
              "      <td>0.021727</td>\n",
              "      <td>0.143354</td>\n",
              "      <td>-0.102528</td>\n",
              "      <td>0.145125</td>\n",
              "      <td>0.041925</td>\n",
              "      <td>0.106009</td>\n",
              "      <td>0.159540</td>\n",
              "      <td>-0.068458</td>\n",
              "      <td>0.111316</td>\n",
              "      <td>-0.215646</td>\n",
              "      <td>-0.098863</td>\n",
              "      <td>-0.269909</td>\n",
              "      <td>-0.153442</td>\n",
              "      <td>0.018061</td>\n",
              "      <td>-0.161009</td>\n",
              "      <td>-0.028591</td>\n",
              "      <td>0.188550</td>\n",
              "      <td>0.008096</td>\n",
              "      <td>0.072443</td>\n",
              "      <td>0.023579</td>\n",
              "      <td>0.182967</td>\n",
              "      <td>-0.007667</td>\n",
              "      <td>-0.011839</td>\n",
              "      <td>0.170856</td>\n",
              "      <td>-0.304365</td>\n",
              "      <td>0.389705</td>\n",
              "      <td>0.047941</td>\n",
              "      <td>0.007232</td>\n",
              "      <td>-0.272291</td>\n",
              "      <td>-0.126870</td>\n",
              "      <td>-0.127925</td>\n",
              "      <td>-0.396063</td>\n",
              "      <td>0.068378</td>\n",
              "      <td>0.112347</td>\n",
              "      <td>-0.137586</td>\n",
              "      <td>-0.170138</td>\n",
              "      <td>-0.222899</td>\n",
              "    </tr>\n",
              "    <tr>\n",
              "      <th>100000741</th>\n",
              "      <td>0.011991</td>\n",
              "      <td>-0.064618</td>\n",
              "      <td>0.023851</td>\n",
              "      <td>0.020584</td>\n",
              "      <td>-0.001286</td>\n",
              "      <td>0.087586</td>\n",
              "      <td>0.020214</td>\n",
              "      <td>-0.023006</td>\n",
              "      <td>0.141585</td>\n",
              "      <td>-0.027218</td>\n",
              "      <td>0.084920</td>\n",
              "      <td>-0.080790</td>\n",
              "      <td>-0.082522</td>\n",
              "      <td>-0.013127</td>\n",
              "      <td>-0.083263</td>\n",
              "      <td>0.026596</td>\n",
              "      <td>-0.012057</td>\n",
              "      <td>-0.075226</td>\n",
              "      <td>0.014972</td>\n",
              "      <td>-0.007161</td>\n",
              "      <td>-0.026189</td>\n",
              "      <td>0.081292</td>\n",
              "      <td>0.037997</td>\n",
              "      <td>0.038617</td>\n",
              "      <td>-0.192273</td>\n",
              "      <td>0.029545</td>\n",
              "      <td>-0.023768</td>\n",
              "      <td>0.012785</td>\n",
              "      <td>-0.079093</td>\n",
              "      <td>0.013032</td>\n",
              "      <td>0.063155</td>\n",
              "      <td>0.042723</td>\n",
              "      <td>0.000253</td>\n",
              "      <td>0.024133</td>\n",
              "      <td>0.016438</td>\n",
              "      <td>0.042406</td>\n",
              "      <td>-0.033383</td>\n",
              "      <td>-0.126252</td>\n",
              "      <td>0.091587</td>\n",
              "      <td>-0.034799</td>\n",
              "      <td>-0.007859</td>\n",
              "      <td>-0.075777</td>\n",
              "      <td>-0.010967</td>\n",
              "      <td>-0.002931</td>\n",
              "      <td>-0.017687</td>\n",
              "      <td>-0.032796</td>\n",
              "      <td>0.132634</td>\n",
              "      <td>0.034002</td>\n",
              "      <td>-0.045125</td>\n",
              "      <td>-0.022498</td>\n",
              "    </tr>\n",
              "    <tr>\n",
              "      <th>100000799</th>\n",
              "      <td>-0.296069</td>\n",
              "      <td>-0.045467</td>\n",
              "      <td>-0.134479</td>\n",
              "      <td>-0.078551</td>\n",
              "      <td>-0.007188</td>\n",
              "      <td>0.130225</td>\n",
              "      <td>0.256573</td>\n",
              "      <td>0.006823</td>\n",
              "      <td>-0.100731</td>\n",
              "      <td>-0.009222</td>\n",
              "      <td>0.162601</td>\n",
              "      <td>-0.220941</td>\n",
              "      <td>0.046830</td>\n",
              "      <td>-0.058022</td>\n",
              "      <td>0.127975</td>\n",
              "      <td>0.103831</td>\n",
              "      <td>-0.007353</td>\n",
              "      <td>-0.157084</td>\n",
              "      <td>-0.195965</td>\n",
              "      <td>0.062891</td>\n",
              "      <td>0.003281</td>\n",
              "      <td>0.030389</td>\n",
              "      <td>-0.275080</td>\n",
              "      <td>-0.308746</td>\n",
              "      <td>-0.359742</td>\n",
              "      <td>0.088200</td>\n",
              "      <td>-0.038888</td>\n",
              "      <td>-0.011415</td>\n",
              "      <td>-0.106791</td>\n",
              "      <td>0.227689</td>\n",
              "      <td>0.163188</td>\n",
              "      <td>0.234553</td>\n",
              "      <td>-0.197371</td>\n",
              "      <td>0.235491</td>\n",
              "      <td>0.122527</td>\n",
              "      <td>0.197834</td>\n",
              "      <td>0.248384</td>\n",
              "      <td>-0.407476</td>\n",
              "      <td>0.448506</td>\n",
              "      <td>0.059739</td>\n",
              "      <td>0.183782</td>\n",
              "      <td>0.024875</td>\n",
              "      <td>0.013322</td>\n",
              "      <td>-0.026945</td>\n",
              "      <td>-0.179338</td>\n",
              "      <td>0.140633</td>\n",
              "      <td>0.321410</td>\n",
              "      <td>0.040113</td>\n",
              "      <td>-0.020448</td>\n",
              "      <td>0.027969</td>\n",
              "    </tr>\n",
              "  </tbody>\n",
              "</table>\n",
              "</div>"
            ],
            "text/plain": [
              "                   0         1         2  ...        47        48        49\n",
              "Unnamed: 0                                ...                              \n",
              "10000005    0.094212  0.074970 -0.092342  ... -0.097580  0.196277 -0.162907\n",
              "100000436  -0.056289 -0.333261  0.043189  ...  0.066766 -0.145219 -0.063180\n",
              "100000736  -0.077203 -0.119751 -0.104929  ... -0.137586 -0.170138 -0.222899\n",
              "100000741   0.011991 -0.064618  0.023851  ...  0.034002 -0.045125 -0.022498\n",
              "100000799  -0.296069 -0.045467 -0.134479  ...  0.040113 -0.020448  0.027969\n",
              "\n",
              "[5 rows x 50 columns]"
            ]
          },
          "metadata": {
            "tags": []
          },
          "execution_count": 6
        }
      ]
    },
    {
      "cell_type": "code",
      "metadata": {
        "id": "sivcO4SwzBgv",
        "colab_type": "code",
        "colab": {}
      },
      "source": [
        "import umap"
      ],
      "execution_count": 0,
      "outputs": []
    },
    {
      "cell_type": "code",
      "metadata": {
        "id": "x5EZbVTXzfQo",
        "colab_type": "code",
        "colab": {}
      },
      "source": [
        "reducer = umap.UMAP()"
      ],
      "execution_count": 0,
      "outputs": []
    },
    {
      "cell_type": "code",
      "metadata": {
        "id": "Ys2IOvibznD8",
        "colab_type": "code",
        "outputId": "f2a7058e-24cd-49d2-f6d0-0ff318e83c26",
        "colab": {
          "base_uri": "https://localhost:8080/",
          "height": 1000
        }
      },
      "source": [
        "view = reducer.fit_transform(doc_vec)"
      ],
      "execution_count": 0,
      "outputs": [
        {
          "output_type": "stream",
          "text": [
            "/usr/local/lib/python3.6/dist-packages/numba/typed_passes.py:293: NumbaPerformanceWarning: \n",
            "The keyword argument 'parallel=True' was specified but no transformation for parallel execution was possible.\n",
            "\n",
            "To find out why, try turning on parallel diagnostics, see http://numba.pydata.org/numba-doc/latest/user/parallel.html#diagnostics for help.\n",
            "\n",
            "File \"../usr/local/lib/python3.6/dist-packages/umap/rp_tree.py\", line 135:\n",
            "@numba.njit(fastmath=True, nogil=True, parallel=True)\n",
            "def euclidean_random_projection_split(data, indices, rng_state):\n",
            "^\n",
            "\n",
            "  state.func_ir.loc))\n",
            "/usr/local/lib/python3.6/dist-packages/numba/typed_passes.py:293: NumbaPerformanceWarning: \n",
            "The keyword argument 'parallel=True' was specified but no transformation for parallel execution was possible.\n",
            "\n",
            "To find out why, try turning on parallel diagnostics, see http://numba.pydata.org/numba-doc/latest/user/parallel.html#diagnostics for help.\n",
            "\n",
            "File \"../usr/local/lib/python3.6/dist-packages/umap/rp_tree.py\", line 135:\n",
            "@numba.njit(fastmath=True, nogil=True, parallel=True)\n",
            "def euclidean_random_projection_split(data, indices, rng_state):\n",
            "^\n",
            "\n",
            "  state.func_ir.loc))\n",
            "/usr/local/lib/python3.6/dist-packages/umap/nndescent.py:92: NumbaPerformanceWarning: \n",
            "The keyword argument 'parallel=True' was specified but no transformation for parallel execution was possible.\n",
            "\n",
            "To find out why, try turning on parallel diagnostics, see http://numba.pydata.org/numba-doc/latest/user/parallel.html#diagnostics for help.\n",
            "\n",
            "File \"../usr/local/lib/python3.6/dist-packages/umap/utils.py\", line 409:\n",
            "@numba.njit(parallel=True)\n",
            "def build_candidates(current_graph, n_vertices, n_neighbors, max_candidates, rng_state):\n",
            "^\n",
            "\n",
            "  current_graph, n_vertices, n_neighbors, max_candidates, rng_state\n",
            "/usr/local/lib/python3.6/dist-packages/umap/nndescent.py:92: NumbaPerformanceWarning: \n",
            "The keyword argument 'parallel=True' was specified but no transformation for parallel execution was possible.\n",
            "\n",
            "To find out why, try turning on parallel diagnostics, see http://numba.pydata.org/numba-doc/latest/user/parallel.html#diagnostics for help.\n",
            "\n",
            "File \"../usr/local/lib/python3.6/dist-packages/umap/utils.py\", line 409:\n",
            "@numba.njit(parallel=True)\n",
            "def build_candidates(current_graph, n_vertices, n_neighbors, max_candidates, rng_state):\n",
            "^\n",
            "\n",
            "  current_graph, n_vertices, n_neighbors, max_candidates, rng_state\n",
            "/usr/local/lib/python3.6/dist-packages/numba/typed_passes.py:293: NumbaPerformanceWarning: \n",
            "The keyword argument 'parallel=True' was specified but no transformation for parallel execution was possible.\n",
            "\n",
            "To find out why, try turning on parallel diagnostics, see http://numba.pydata.org/numba-doc/latest/user/parallel.html#diagnostics for help.\n",
            "\n",
            "File \"../usr/local/lib/python3.6/dist-packages/umap/nndescent.py\", line 47:\n",
            "    @numba.njit(parallel=True)\n",
            "    def nn_descent(\n",
            "    ^\n",
            "\n",
            "  state.func_ir.loc))\n",
            "/usr/local/lib/python3.6/dist-packages/numba/typed_passes.py:293: NumbaPerformanceWarning: \n",
            "The keyword argument 'parallel=True' was specified but no transformation for parallel execution was possible.\n",
            "\n",
            "To find out why, try turning on parallel diagnostics, see http://numba.pydata.org/numba-doc/latest/user/parallel.html#diagnostics for help.\n",
            "\n",
            "File \"../usr/local/lib/python3.6/dist-packages/umap/nndescent.py\", line 47:\n",
            "    @numba.njit(parallel=True)\n",
            "    def nn_descent(\n",
            "    ^\n",
            "\n",
            "  state.func_ir.loc))\n"
          ],
          "name": "stderr"
        }
      ]
    },
    {
      "cell_type": "code",
      "metadata": {
        "id": "Ta6D37ElzwYW",
        "colab_type": "code",
        "colab": {}
      },
      "source": [
        "import matplotlib.pyplot as plt"
      ],
      "execution_count": 0,
      "outputs": []
    },
    {
      "cell_type": "code",
      "metadata": {
        "id": "NcYyUJhV0LtD",
        "colab_type": "code",
        "outputId": "3d8c9d9e-02ed-4bf2-9924-886603c0bf3e",
        "colab": {
          "base_uri": "https://localhost:8080/",
          "height": 282
        }
      },
      "source": [
        "plt.scatter(view[:,0][doc_vec.index.isin(ids)], view[:,1][doc_vec.index.isin(ids)])\n",
        "plt.scatter(view[:,0][doc_vec.index.isin(fr)], view[:,1][doc_vec.index.isin(fr)],c='r')"
      ],
      "execution_count": 0,
      "outputs": [
        {
          "output_type": "execute_result",
          "data": {
            "text/plain": [
              "<matplotlib.collections.PathCollection at 0x7f721dfa51d0>"
            ]
          },
          "metadata": {
            "tags": []
          },
          "execution_count": 65
        },
        {
          "output_type": "display_data",
          "data": {
            "image/png": "[encoded data removed]",
            "text/plain": [
              "<Figure size 432x288 with 1 Axes>"
            ]
          },
          "metadata": {
            "tags": []
          }
        }
      ]
    },
    {
      "cell_type": "code",
      "metadata": {
        "id": "QiHRm4pTAVQo",
        "colab_type": "code",
        "colab": {}
      },
      "source": [
        "fr = tr_data[tr_data.CLASS==1].USER_ID_RCVR.unique()"
      ],
      "execution_count": 0,
      "outputs": []
    },
    {
      "cell_type": "code",
      "metadata": {
        "id": "AQ5PnXDFCkMX",
        "colab_type": "code",
        "outputId": "af683c20-0790-43fc-e19a-8a4b11f07ad4",
        "colab": {
          "base_uri": "https://localhost:8080/",
          "height": 34
        }
      },
      "source": [
        "doc_vec.index.isin(fr)"
      ],
      "execution_count": 0,
      "outputs": [
        {
          "output_type": "execute_result",
          "data": {
            "text/plain": [
              "359"
            ]
          },
          "metadata": {
            "tags": []
          },
          "execution_count": 39
        }
      ]
    },
    {
      "cell_type": "code",
      "metadata": {
        "id": "MNqKsFbWC8Lw",
        "colab_type": "code",
        "outputId": "d5442429-2305-4774-f5d2-28d2e4817115",
        "colab": {
          "base_uri": "https://localhost:8080/",
          "height": 34
        }
      },
      "source": [
        "fr"
      ],
      "execution_count": 0,
      "outputs": [
        {
          "output_type": "execute_result",
          "data": {
            "text/plain": [
              "4701"
            ]
          },
          "metadata": {
            "tags": []
          },
          "execution_count": 35
        }
      ]
    },
    {
      "cell_type": "code",
      "metadata": {
        "id": "_xcsdwPADLbP",
        "colab_type": "code",
        "colab": {}
      },
      "source": [
        "ids = target[[\"USER_ID\", \"USER_ID_RCVR\"]].values.ravel()"
      ],
      "execution_count": 0,
      "outputs": []
    },
    {
      "cell_type": "code",
      "metadata": {
        "id": "nOpSM82-RC4d",
        "colab_type": "code",
        "outputId": "864bac4f-173e-4f6b-99ef-879b0498bb3c",
        "colab": {
          "base_uri": "https://localhost:8080/",
          "height": 34
        }
      },
      "source": [
        "doc_vec.index.isin(ids).sum()"
      ],
      "execution_count": 0,
      "outputs": [
        {
          "output_type": "execute_result",
          "data": {
            "text/plain": [
              "29441"
            ]
          },
          "metadata": {
            "tags": []
          },
          "execution_count": 64
        }
      ]
    },
    {
      "cell_type": "code",
      "metadata": {
        "id": "dx8-1w9pVMLs",
        "colab_type": "code",
        "outputId": "e06533ec-a90f-4482-ef17-005bf7df2f3c",
        "colab": {
          "base_uri": "https://localhost:8080/",
          "height": 164
        }
      },
      "source": [
        "ids.sort()"
      ],
      "execution_count": 0,
      "outputs": [
        {
          "output_type": "error",
          "ename": "TypeError",
          "evalue": "ignored",
          "traceback": [
            "\u001b[0;31m---------------------------------------------------------------------------\u001b[0m",
            "\u001b[0;31mTypeError\u001b[0m                                 Traceback (most recent call last)",
            "\u001b[0;32m<ipython-input-58-481d350d5e68>\u001b[0m in \u001b[0;36m<module>\u001b[0;34m()\u001b[0m\n\u001b[0;32m----> 1\u001b[0;31m \u001b[0mids\u001b[0m\u001b[0;34m.\u001b[0m\u001b[0msort\u001b[0m\u001b[0;34m(\u001b[0m\u001b[0;34m)\u001b[0m\u001b[0;34m\u001b[0m\u001b[0;34m\u001b[0m\u001b[0m\n\u001b[0m",
            "\u001b[0;31mTypeError\u001b[0m: '<' not supported between instances of 'NoneType' and 'str'"
          ]
        }
      ]
    },
    {
      "cell_type": "code",
      "metadata": {
        "id": "04kUO9j-VYfx",
        "colab_type": "code",
        "colab": {}
      },
      "source": [
        ""
      ],
      "execution_count": 0,
      "outputs": []
    }
  ]
}